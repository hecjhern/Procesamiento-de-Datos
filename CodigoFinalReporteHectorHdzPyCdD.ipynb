{
  "nbformat": 4,
  "nbformat_minor": 0,
  "metadata": {
    "colab": {
      "provenance": [],
      "authorship_tag": "ABX9TyPF5HYMiwtNqHLcOid7J7b+",
      "include_colab_link": true
    },
    "kernelspec": {
      "name": "python3",
      "display_name": "Python 3"
    },
    "language_info": {
      "name": "python"
    }
  },
  "cells": [
    {
      "cell_type": "markdown",
      "metadata": {
        "id": "view-in-github",
        "colab_type": "text"
      },
      "source": [
        "<a href=\"https://colab.research.google.com/github/hecjhern/Procesamiento-de-Datos/blob/main/CodigoFinalReporteHectorHdzPyCdD.ipynb\" target=\"_parent\"><img src=\"https://colab.research.google.com/assets/colab-badge.svg\" alt=\"Open In Colab\"/></a>"
      ]
    },
    {
      "cell_type": "markdown",
      "source": [
        "# Inicialización de Datos y Validación"
      ],
      "metadata": {
        "id": "JuMY_iMZ5Ev1"
      }
    },
    {
      "cell_type": "code",
      "execution_count": 48,
      "metadata": {
        "id": "q7DGXKxVv9en"
      },
      "outputs": [],
      "source": [
        "import pandas as pd\n",
        "import numpy as np"
      ]
    },
    {
      "cell_type": "code",
      "source": [
        "from google.colab import files\n",
        "uploaded = files.upload()"
      ],
      "metadata": {
        "colab": {
          "base_uri": "https://localhost:8080/",
          "height": 74
        },
        "id": "VqBZLR37wJOT",
        "outputId": "98646d76-876d-45b3-d89b-049996c94fba"
      },
      "execution_count": 2,
      "outputs": [
        {
          "output_type": "display_data",
          "data": {
            "text/plain": [
              "<IPython.core.display.HTML object>"
            ],
            "text/html": [
              "\n",
              "     <input type=\"file\" id=\"files-dca619a3-3a1a-4243-879d-20ed02c98d97\" name=\"files[]\" multiple disabled\n",
              "        style=\"border:none\" />\n",
              "     <output id=\"result-dca619a3-3a1a-4243-879d-20ed02c98d97\">\n",
              "      Upload widget is only available when the cell has been executed in the\n",
              "      current browser session. Please rerun this cell to enable.\n",
              "      </output>\n",
              "      <script>// Copyright 2017 Google LLC\n",
              "//\n",
              "// Licensed under the Apache License, Version 2.0 (the \"License\");\n",
              "// you may not use this file except in compliance with the License.\n",
              "// You may obtain a copy of the License at\n",
              "//\n",
              "//      http://www.apache.org/licenses/LICENSE-2.0\n",
              "//\n",
              "// Unless required by applicable law or agreed to in writing, software\n",
              "// distributed under the License is distributed on an \"AS IS\" BASIS,\n",
              "// WITHOUT WARRANTIES OR CONDITIONS OF ANY KIND, either express or implied.\n",
              "// See the License for the specific language governing permissions and\n",
              "// limitations under the License.\n",
              "\n",
              "/**\n",
              " * @fileoverview Helpers for google.colab Python module.\n",
              " */\n",
              "(function(scope) {\n",
              "function span(text, styleAttributes = {}) {\n",
              "  const element = document.createElement('span');\n",
              "  element.textContent = text;\n",
              "  for (const key of Object.keys(styleAttributes)) {\n",
              "    element.style[key] = styleAttributes[key];\n",
              "  }\n",
              "  return element;\n",
              "}\n",
              "\n",
              "// Max number of bytes which will be uploaded at a time.\n",
              "const MAX_PAYLOAD_SIZE = 100 * 1024;\n",
              "\n",
              "function _uploadFiles(inputId, outputId) {\n",
              "  const steps = uploadFilesStep(inputId, outputId);\n",
              "  const outputElement = document.getElementById(outputId);\n",
              "  // Cache steps on the outputElement to make it available for the next call\n",
              "  // to uploadFilesContinue from Python.\n",
              "  outputElement.steps = steps;\n",
              "\n",
              "  return _uploadFilesContinue(outputId);\n",
              "}\n",
              "\n",
              "// This is roughly an async generator (not supported in the browser yet),\n",
              "// where there are multiple asynchronous steps and the Python side is going\n",
              "// to poll for completion of each step.\n",
              "// This uses a Promise to block the python side on completion of each step,\n",
              "// then passes the result of the previous step as the input to the next step.\n",
              "function _uploadFilesContinue(outputId) {\n",
              "  const outputElement = document.getElementById(outputId);\n",
              "  const steps = outputElement.steps;\n",
              "\n",
              "  const next = steps.next(outputElement.lastPromiseValue);\n",
              "  return Promise.resolve(next.value.promise).then((value) => {\n",
              "    // Cache the last promise value to make it available to the next\n",
              "    // step of the generator.\n",
              "    outputElement.lastPromiseValue = value;\n",
              "    return next.value.response;\n",
              "  });\n",
              "}\n",
              "\n",
              "/**\n",
              " * Generator function which is called between each async step of the upload\n",
              " * process.\n",
              " * @param {string} inputId Element ID of the input file picker element.\n",
              " * @param {string} outputId Element ID of the output display.\n",
              " * @return {!Iterable<!Object>} Iterable of next steps.\n",
              " */\n",
              "function* uploadFilesStep(inputId, outputId) {\n",
              "  const inputElement = document.getElementById(inputId);\n",
              "  inputElement.disabled = false;\n",
              "\n",
              "  const outputElement = document.getElementById(outputId);\n",
              "  outputElement.innerHTML = '';\n",
              "\n",
              "  const pickedPromise = new Promise((resolve) => {\n",
              "    inputElement.addEventListener('change', (e) => {\n",
              "      resolve(e.target.files);\n",
              "    });\n",
              "  });\n",
              "\n",
              "  const cancel = document.createElement('button');\n",
              "  inputElement.parentElement.appendChild(cancel);\n",
              "  cancel.textContent = 'Cancel upload';\n",
              "  const cancelPromise = new Promise((resolve) => {\n",
              "    cancel.onclick = () => {\n",
              "      resolve(null);\n",
              "    };\n",
              "  });\n",
              "\n",
              "  // Wait for the user to pick the files.\n",
              "  const files = yield {\n",
              "    promise: Promise.race([pickedPromise, cancelPromise]),\n",
              "    response: {\n",
              "      action: 'starting',\n",
              "    }\n",
              "  };\n",
              "\n",
              "  cancel.remove();\n",
              "\n",
              "  // Disable the input element since further picks are not allowed.\n",
              "  inputElement.disabled = true;\n",
              "\n",
              "  if (!files) {\n",
              "    return {\n",
              "      response: {\n",
              "        action: 'complete',\n",
              "      }\n",
              "    };\n",
              "  }\n",
              "\n",
              "  for (const file of files) {\n",
              "    const li = document.createElement('li');\n",
              "    li.append(span(file.name, {fontWeight: 'bold'}));\n",
              "    li.append(span(\n",
              "        `(${file.type || 'n/a'}) - ${file.size} bytes, ` +\n",
              "        `last modified: ${\n",
              "            file.lastModifiedDate ? file.lastModifiedDate.toLocaleDateString() :\n",
              "                                    'n/a'} - `));\n",
              "    const percent = span('0% done');\n",
              "    li.appendChild(percent);\n",
              "\n",
              "    outputElement.appendChild(li);\n",
              "\n",
              "    const fileDataPromise = new Promise((resolve) => {\n",
              "      const reader = new FileReader();\n",
              "      reader.onload = (e) => {\n",
              "        resolve(e.target.result);\n",
              "      };\n",
              "      reader.readAsArrayBuffer(file);\n",
              "    });\n",
              "    // Wait for the data to be ready.\n",
              "    let fileData = yield {\n",
              "      promise: fileDataPromise,\n",
              "      response: {\n",
              "        action: 'continue',\n",
              "      }\n",
              "    };\n",
              "\n",
              "    // Use a chunked sending to avoid message size limits. See b/62115660.\n",
              "    let position = 0;\n",
              "    do {\n",
              "      const length = Math.min(fileData.byteLength - position, MAX_PAYLOAD_SIZE);\n",
              "      const chunk = new Uint8Array(fileData, position, length);\n",
              "      position += length;\n",
              "\n",
              "      const base64 = btoa(String.fromCharCode.apply(null, chunk));\n",
              "      yield {\n",
              "        response: {\n",
              "          action: 'append',\n",
              "          file: file.name,\n",
              "          data: base64,\n",
              "        },\n",
              "      };\n",
              "\n",
              "      let percentDone = fileData.byteLength === 0 ?\n",
              "          100 :\n",
              "          Math.round((position / fileData.byteLength) * 100);\n",
              "      percent.textContent = `${percentDone}% done`;\n",
              "\n",
              "    } while (position < fileData.byteLength);\n",
              "  }\n",
              "\n",
              "  // All done.\n",
              "  yield {\n",
              "    response: {\n",
              "      action: 'complete',\n",
              "    }\n",
              "  };\n",
              "}\n",
              "\n",
              "scope.google = scope.google || {};\n",
              "scope.google.colab = scope.google.colab || {};\n",
              "scope.google.colab._files = {\n",
              "  _uploadFiles,\n",
              "  _uploadFilesContinue,\n",
              "};\n",
              "})(self);\n",
              "</script> "
            ]
          },
          "metadata": {}
        },
        {
          "output_type": "stream",
          "name": "stdout",
          "text": [
            "Saving voter_panel.csv to voter_panel.csv\n"
          ]
        }
      ]
    },
    {
      "cell_type": "code",
      "source": [
        "import io\n",
        "PANELCompleto = pd.read_csv(io.BytesIO(uploaded['voter_panel.csv']), encoding='unicode_escape')"
      ],
      "metadata": {
        "colab": {
          "base_uri": "https://localhost:8080/"
        },
        "id": "qku6knaMwJL0",
        "outputId": "c343d098-3d1e-4cca-d368-53f6d157609f"
      },
      "execution_count": 3,
      "outputs": [
        {
          "output_type": "stream",
          "name": "stderr",
          "text": [
            "<ipython-input-3-0323cd28ccc2>:2: DtypeWarning: Columns (399,583,584,830,831,1019,1020,1216,1217,1431,1432,1434) have mixed types. Specify dtype option on import or set low_memory=False.\n",
            "  PANELCompleto = pd.read_csv(io.BytesIO(uploaded['voter_panel.csv']), encoding='unicode_escape')\n"
          ]
        }
      ]
    },
    {
      "cell_type": "code",
      "source": [
        "PANELCompleto.head()"
      ],
      "metadata": {
        "colab": {
          "base_uri": "https://localhost:8080/",
          "height": 300
        },
        "id": "XVFkkar5wJKD",
        "outputId": "7c86e64e-e6df-4578-9f04-04c2df4c9380"
      },
      "execution_count": 4,
      "outputs": [
        {
          "output_type": "execute_result",
          "data": {
            "text/plain": [
              "   weight_genpop_2020Nov  weight_allpanel_2020Nov  weight_panel_2020Nov  \\\n",
              "0               0.617408                   1.4367                1.1927   \n",
              "1                    NaN                      NaN                   NaN   \n",
              "2                    NaN                      NaN                   NaN   \n",
              "3                    NaN                      NaN                   NaN   \n",
              "4               0.513165                   0.3617                0.2863   \n",
              "\n",
              "  cdid_2020Nov  inputstate_2020Nov  track_2020Nov  econtrend_2020Nov  \\\n",
              "0            2                 6.0            2.0                3.0   \n",
              "1                              NaN            NaN                NaN   \n",
              "2                              NaN            NaN                NaN   \n",
              "3                              NaN            NaN                NaN   \n",
              "4            1                50.0            2.0                3.0   \n",
              "\n",
              "   persfinretro_2020Nov  standards_children_2020Nov  values_culture_2020Nov  \\\n",
              "0                   2.0                         1.0                     2.0   \n",
              "1                   NaN                         NaN                     NaN   \n",
              "2                   NaN                         NaN                     NaN   \n",
              "3                   NaN                         NaN                     NaN   \n",
              "4                   3.0                         2.0                     2.0   \n",
              "\n",
              "   ...  employ_spouse_2011  employ_spouse_t_2011  phone_2011  faminc_2011  \\\n",
              "0  ...                99.0                __NA__         1.0          6.0   \n",
              "1  ...                99.0                __NA__         1.0          5.0   \n",
              "2  ...                 4.0                               1.0         10.0   \n",
              "3  ...                 5.0                               3.0          4.0   \n",
              "4  ...                99.0                __NA__         1.0          2.0   \n",
              "\n",
              "  cdid_2011  incumbentpresnom_2011  incumbentpresnom_t_2011  primary12_2011  \\\n",
              "0        03                    1.0                                      1.0   \n",
              "1         6                    2.0          Hillery Clinton             1.0   \n",
              "2        21                    3.0                                      2.0   \n",
              "3        12                    1.0                                      1.0   \n",
              "4        00                    1.0                                      1.0   \n",
              "\n",
              "   news_localevening_2011  news_localpaper_2011  \n",
              "0                     5.0                   8.0  \n",
              "1                     7.0                   7.0  \n",
              "2                     7.0                   3.0  \n",
              "3                     7.0                   5.0  \n",
              "4                     4.0                   2.0  \n",
              "\n",
              "[5 rows x 1797 columns]"
            ],
            "text/html": [
              "\n",
              "  <div id=\"df-11b0c181-3082-4e13-a192-1c353764e6bf\">\n",
              "    <div class=\"colab-df-container\">\n",
              "      <div>\n",
              "<style scoped>\n",
              "    .dataframe tbody tr th:only-of-type {\n",
              "        vertical-align: middle;\n",
              "    }\n",
              "\n",
              "    .dataframe tbody tr th {\n",
              "        vertical-align: top;\n",
              "    }\n",
              "\n",
              "    .dataframe thead th {\n",
              "        text-align: right;\n",
              "    }\n",
              "</style>\n",
              "<table border=\"1\" class=\"dataframe\">\n",
              "  <thead>\n",
              "    <tr style=\"text-align: right;\">\n",
              "      <th></th>\n",
              "      <th>weight_genpop_2020Nov</th>\n",
              "      <th>weight_allpanel_2020Nov</th>\n",
              "      <th>weight_panel_2020Nov</th>\n",
              "      <th>cdid_2020Nov</th>\n",
              "      <th>inputstate_2020Nov</th>\n",
              "      <th>track_2020Nov</th>\n",
              "      <th>econtrend_2020Nov</th>\n",
              "      <th>persfinretro_2020Nov</th>\n",
              "      <th>standards_children_2020Nov</th>\n",
              "      <th>values_culture_2020Nov</th>\n",
              "      <th>...</th>\n",
              "      <th>employ_spouse_2011</th>\n",
              "      <th>employ_spouse_t_2011</th>\n",
              "      <th>phone_2011</th>\n",
              "      <th>faminc_2011</th>\n",
              "      <th>cdid_2011</th>\n",
              "      <th>incumbentpresnom_2011</th>\n",
              "      <th>incumbentpresnom_t_2011</th>\n",
              "      <th>primary12_2011</th>\n",
              "      <th>news_localevening_2011</th>\n",
              "      <th>news_localpaper_2011</th>\n",
              "    </tr>\n",
              "  </thead>\n",
              "  <tbody>\n",
              "    <tr>\n",
              "      <th>0</th>\n",
              "      <td>0.617408</td>\n",
              "      <td>1.4367</td>\n",
              "      <td>1.1927</td>\n",
              "      <td>2</td>\n",
              "      <td>6.0</td>\n",
              "      <td>2.0</td>\n",
              "      <td>3.0</td>\n",
              "      <td>2.0</td>\n",
              "      <td>1.0</td>\n",
              "      <td>2.0</td>\n",
              "      <td>...</td>\n",
              "      <td>99.0</td>\n",
              "      <td>__NA__</td>\n",
              "      <td>1.0</td>\n",
              "      <td>6.0</td>\n",
              "      <td>03</td>\n",
              "      <td>1.0</td>\n",
              "      <td></td>\n",
              "      <td>1.0</td>\n",
              "      <td>5.0</td>\n",
              "      <td>8.0</td>\n",
              "    </tr>\n",
              "    <tr>\n",
              "      <th>1</th>\n",
              "      <td>NaN</td>\n",
              "      <td>NaN</td>\n",
              "      <td>NaN</td>\n",
              "      <td></td>\n",
              "      <td>NaN</td>\n",
              "      <td>NaN</td>\n",
              "      <td>NaN</td>\n",
              "      <td>NaN</td>\n",
              "      <td>NaN</td>\n",
              "      <td>NaN</td>\n",
              "      <td>...</td>\n",
              "      <td>99.0</td>\n",
              "      <td>__NA__</td>\n",
              "      <td>1.0</td>\n",
              "      <td>5.0</td>\n",
              "      <td>6</td>\n",
              "      <td>2.0</td>\n",
              "      <td>Hillery Clinton</td>\n",
              "      <td>1.0</td>\n",
              "      <td>7.0</td>\n",
              "      <td>7.0</td>\n",
              "    </tr>\n",
              "    <tr>\n",
              "      <th>2</th>\n",
              "      <td>NaN</td>\n",
              "      <td>NaN</td>\n",
              "      <td>NaN</td>\n",
              "      <td></td>\n",
              "      <td>NaN</td>\n",
              "      <td>NaN</td>\n",
              "      <td>NaN</td>\n",
              "      <td>NaN</td>\n",
              "      <td>NaN</td>\n",
              "      <td>NaN</td>\n",
              "      <td>...</td>\n",
              "      <td>4.0</td>\n",
              "      <td></td>\n",
              "      <td>1.0</td>\n",
              "      <td>10.0</td>\n",
              "      <td>21</td>\n",
              "      <td>3.0</td>\n",
              "      <td></td>\n",
              "      <td>2.0</td>\n",
              "      <td>7.0</td>\n",
              "      <td>3.0</td>\n",
              "    </tr>\n",
              "    <tr>\n",
              "      <th>3</th>\n",
              "      <td>NaN</td>\n",
              "      <td>NaN</td>\n",
              "      <td>NaN</td>\n",
              "      <td></td>\n",
              "      <td>NaN</td>\n",
              "      <td>NaN</td>\n",
              "      <td>NaN</td>\n",
              "      <td>NaN</td>\n",
              "      <td>NaN</td>\n",
              "      <td>NaN</td>\n",
              "      <td>...</td>\n",
              "      <td>5.0</td>\n",
              "      <td></td>\n",
              "      <td>3.0</td>\n",
              "      <td>4.0</td>\n",
              "      <td>12</td>\n",
              "      <td>1.0</td>\n",
              "      <td></td>\n",
              "      <td>1.0</td>\n",
              "      <td>7.0</td>\n",
              "      <td>5.0</td>\n",
              "    </tr>\n",
              "    <tr>\n",
              "      <th>4</th>\n",
              "      <td>0.513165</td>\n",
              "      <td>0.3617</td>\n",
              "      <td>0.2863</td>\n",
              "      <td>1</td>\n",
              "      <td>50.0</td>\n",
              "      <td>2.0</td>\n",
              "      <td>3.0</td>\n",
              "      <td>3.0</td>\n",
              "      <td>2.0</td>\n",
              "      <td>2.0</td>\n",
              "      <td>...</td>\n",
              "      <td>99.0</td>\n",
              "      <td>__NA__</td>\n",
              "      <td>1.0</td>\n",
              "      <td>2.0</td>\n",
              "      <td>00</td>\n",
              "      <td>1.0</td>\n",
              "      <td></td>\n",
              "      <td>1.0</td>\n",
              "      <td>4.0</td>\n",
              "      <td>2.0</td>\n",
              "    </tr>\n",
              "  </tbody>\n",
              "</table>\n",
              "<p>5 rows × 1797 columns</p>\n",
              "</div>\n",
              "      <button class=\"colab-df-convert\" onclick=\"convertToInteractive('df-11b0c181-3082-4e13-a192-1c353764e6bf')\"\n",
              "              title=\"Convert this dataframe to an interactive table.\"\n",
              "              style=\"display:none;\">\n",
              "        \n",
              "  <svg xmlns=\"http://www.w3.org/2000/svg\" height=\"24px\"viewBox=\"0 0 24 24\"\n",
              "       width=\"24px\">\n",
              "    <path d=\"M0 0h24v24H0V0z\" fill=\"none\"/>\n",
              "    <path d=\"M18.56 5.44l.94 2.06.94-2.06 2.06-.94-2.06-.94-.94-2.06-.94 2.06-2.06.94zm-11 1L8.5 8.5l.94-2.06 2.06-.94-2.06-.94L8.5 2.5l-.94 2.06-2.06.94zm10 10l.94 2.06.94-2.06 2.06-.94-2.06-.94-.94-2.06-.94 2.06-2.06.94z\"/><path d=\"M17.41 7.96l-1.37-1.37c-.4-.4-.92-.59-1.43-.59-.52 0-1.04.2-1.43.59L10.3 9.45l-7.72 7.72c-.78.78-.78 2.05 0 2.83L4 21.41c.39.39.9.59 1.41.59.51 0 1.02-.2 1.41-.59l7.78-7.78 2.81-2.81c.8-.78.8-2.07 0-2.86zM5.41 20L4 18.59l7.72-7.72 1.47 1.35L5.41 20z\"/>\n",
              "  </svg>\n",
              "      </button>\n",
              "      \n",
              "  <style>\n",
              "    .colab-df-container {\n",
              "      display:flex;\n",
              "      flex-wrap:wrap;\n",
              "      gap: 12px;\n",
              "    }\n",
              "\n",
              "    .colab-df-convert {\n",
              "      background-color: #E8F0FE;\n",
              "      border: none;\n",
              "      border-radius: 50%;\n",
              "      cursor: pointer;\n",
              "      display: none;\n",
              "      fill: #1967D2;\n",
              "      height: 32px;\n",
              "      padding: 0 0 0 0;\n",
              "      width: 32px;\n",
              "    }\n",
              "\n",
              "    .colab-df-convert:hover {\n",
              "      background-color: #E2EBFA;\n",
              "      box-shadow: 0px 1px 2px rgba(60, 64, 67, 0.3), 0px 1px 3px 1px rgba(60, 64, 67, 0.15);\n",
              "      fill: #174EA6;\n",
              "    }\n",
              "\n",
              "    [theme=dark] .colab-df-convert {\n",
              "      background-color: #3B4455;\n",
              "      fill: #D2E3FC;\n",
              "    }\n",
              "\n",
              "    [theme=dark] .colab-df-convert:hover {\n",
              "      background-color: #434B5C;\n",
              "      box-shadow: 0px 1px 3px 1px rgba(0, 0, 0, 0.15);\n",
              "      filter: drop-shadow(0px 1px 2px rgba(0, 0, 0, 0.3));\n",
              "      fill: #FFFFFF;\n",
              "    }\n",
              "  </style>\n",
              "\n",
              "      <script>\n",
              "        const buttonEl =\n",
              "          document.querySelector('#df-11b0c181-3082-4e13-a192-1c353764e6bf button.colab-df-convert');\n",
              "        buttonEl.style.display =\n",
              "          google.colab.kernel.accessAllowed ? 'block' : 'none';\n",
              "\n",
              "        async function convertToInteractive(key) {\n",
              "          const element = document.querySelector('#df-11b0c181-3082-4e13-a192-1c353764e6bf');\n",
              "          const dataTable =\n",
              "            await google.colab.kernel.invokeFunction('convertToInteractive',\n",
              "                                                     [key], {});\n",
              "          if (!dataTable) return;\n",
              "\n",
              "          const docLinkHtml = 'Like what you see? Visit the ' +\n",
              "            '<a target=\"_blank\" href=https://colab.research.google.com/notebooks/data_table.ipynb>data table notebook</a>'\n",
              "            + ' to learn more about interactive tables.';\n",
              "          element.innerHTML = '';\n",
              "          dataTable['output_type'] = 'display_data';\n",
              "          await google.colab.output.renderOutput(dataTable, element);\n",
              "          const docLink = document.createElement('div');\n",
              "          docLink.innerHTML = docLinkHtml;\n",
              "          element.appendChild(docLink);\n",
              "        }\n",
              "      </script>\n",
              "    </div>\n",
              "  </div>\n",
              "  "
            ]
          },
          "metadata": {},
          "execution_count": 4
        }
      ]
    },
    {
      "cell_type": "code",
      "source": [
        "PANELCompleto.shape"
      ],
      "metadata": {
        "colab": {
          "base_uri": "https://localhost:8080/"
        },
        "id": "Sw3tkUDywJHo",
        "outputId": "459d9dfd-385b-47e9-82aa-fd9d7320dd94"
      },
      "execution_count": 5,
      "outputs": [
        {
          "output_type": "execute_result",
          "data": {
            "text/plain": [
              "(12517, 1797)"
            ]
          },
          "metadata": {},
          "execution_count": 5
        }
      ]
    },
    {
      "cell_type": "code",
      "source": [
        "PANELCompleto.columns"
      ],
      "metadata": {
        "colab": {
          "base_uri": "https://localhost:8080/"
        },
        "id": "Vcvb1x3IwJFl",
        "outputId": "3cc33eab-aa3a-4dea-cdf7-4cf46b1c0dd5"
      },
      "execution_count": 6,
      "outputs": [
        {
          "output_type": "execute_result",
          "data": {
            "text/plain": [
              "Index(['weight_genpop_2020Nov', 'weight_allpanel_2020Nov',\n",
              "       'weight_panel_2020Nov', 'cdid_2020Nov', 'inputstate_2020Nov',\n",
              "       'track_2020Nov', 'econtrend_2020Nov', 'persfinretro_2020Nov',\n",
              "       'standards_children_2020Nov', 'values_culture_2020Nov',\n",
              "       ...\n",
              "       'employ_spouse_2011', 'employ_spouse_t_2011', 'phone_2011',\n",
              "       'faminc_2011', 'cdid_2011', 'incumbentpresnom_2011',\n",
              "       'incumbentpresnom_t_2011', 'primary12_2011', 'news_localevening_2011',\n",
              "       'news_localpaper_2011'],\n",
              "      dtype='object', length=1797)"
            ]
          },
          "metadata": {},
          "execution_count": 6
        }
      ]
    },
    {
      "cell_type": "code",
      "source": [
        "PANELCompleto.isnull().sum()"
      ],
      "metadata": {
        "colab": {
          "base_uri": "https://localhost:8080/"
        },
        "id": "362olgm7wJDY",
        "outputId": "12a9d31b-9837-4914-cdb8-3547aad2fbcf"
      },
      "execution_count": 7,
      "outputs": [
        {
          "output_type": "execute_result",
          "data": {
            "text/plain": [
              "weight_genpop_2020Nov       7574\n",
              "weight_allpanel_2020Nov     9177\n",
              "weight_panel_2020Nov       10321\n",
              "cdid_2020Nov                   0\n",
              "inputstate_2020Nov          7574\n",
              "                           ...  \n",
              "incumbentpresnom_2011       4483\n",
              "incumbentpresnom_t_2011        1\n",
              "primary12_2011              4483\n",
              "news_localevening_2011      4483\n",
              "news_localpaper_2011        4483\n",
              "Length: 1797, dtype: int64"
            ]
          },
          "metadata": {},
          "execution_count": 7
        }
      ]
    },
    {
      "cell_type": "code",
      "source": [
        "PANELCompleto.duplicated().sum()"
      ],
      "metadata": {
        "colab": {
          "base_uri": "https://localhost:8080/"
        },
        "id": "2LS7mnH9wJAj",
        "outputId": "814b82ca-81d3-4a10-ce56-a024ee644289"
      },
      "execution_count": 8,
      "outputs": [
        {
          "output_type": "execute_result",
          "data": {
            "text/plain": [
              "0"
            ]
          },
          "metadata": {},
          "execution_count": 8
        }
      ]
    },
    {
      "cell_type": "markdown",
      "source": [
        "# Selección y Limpieza de Datos"
      ],
      "metadata": {
        "id": "lYnH7gh85SFf"
      }
    },
    {
      "cell_type": "code",
      "source": [
        "#Empezamos a separar el panel en las variables que son de nuestro interés para cada año."
      ],
      "metadata": {
        "id": "ctMDYr-bwI-T"
      },
      "execution_count": null,
      "outputs": []
    },
    {
      "cell_type": "code",
      "source": [
        "voter2016 = PANELCompleto[[\"cdid_2016\", \"votereg_2016\", \"turnout_2016\", \"presvote_2016\", \"obamaapp_2016\", \"fairsociety_2016\", \"beliefinmedia_2016\",\n",
        "                           \"persfinretro_2016\", \"trustgovt_2016\", \"immi_contribution_2016\",\n",
        "                           \"view_deathpen_2016\", \"envwarm_2016\", \"govtreg_business_2016\", \"sexism_equality_2016\", \"gunowner_2016\",\n",
        "                           \"educ_2016\", \"marstat_2016\", \"employment_2016\", \"newsint_2016\", \"religion_2016\"]]"
      ],
      "metadata": {
        "id": "RuQ8JLm4wI74"
      },
      "execution_count": 15,
      "outputs": []
    },
    {
      "cell_type": "code",
      "source": [
        "voter2016.shape"
      ],
      "metadata": {
        "colab": {
          "base_uri": "https://localhost:8080/"
        },
        "id": "sr9kPMguwI5h",
        "outputId": "ab46e0f0-6bf8-4684-dedc-4888263182b7"
      },
      "execution_count": 16,
      "outputs": [
        {
          "output_type": "execute_result",
          "data": {
            "text/plain": [
              "(12517, 20)"
            ]
          },
          "metadata": {},
          "execution_count": 16
        }
      ]
    },
    {
      "cell_type": "code",
      "source": [
        "voter2016.isnull().sum()"
      ],
      "metadata": {
        "colab": {
          "base_uri": "https://localhost:8080/"
        },
        "id": "1Ieh-BjTv_20",
        "outputId": "d55794f8-47d5-4cab-903b-45fd2f7b38ad"
      },
      "execution_count": 17,
      "outputs": [
        {
          "output_type": "execute_result",
          "data": {
            "text/plain": [
              "cdid_2016                 4037\n",
              "votereg_2016              4483\n",
              "turnout_2016              4483\n",
              "presvote_2016             4483\n",
              "obamaapp_2016             4483\n",
              "fairsociety_2016          4483\n",
              "beliefinmedia_2016        4483\n",
              "persfinretro_2016         4483\n",
              "trustgovt_2016            4483\n",
              "immi_contribution_2016    4483\n",
              "view_deathpen_2016        4483\n",
              "envwarm_2016              4483\n",
              "govtreg_business_2016     4483\n",
              "sexism_equality_2016      4483\n",
              "gunowner_2016             4483\n",
              "educ_2016                 4483\n",
              "marstat_2016              4483\n",
              "employment_2016           4483\n",
              "newsint_2016              4483\n",
              "religion_2016             4483\n",
              "dtype: int64"
            ]
          },
          "metadata": {},
          "execution_count": 17
        }
      ]
    },
    {
      "cell_type": "code",
      "source": [
        " voteclean = voter2016[voter2016[\"votereg_2016\"].isin([1,2])]"
      ],
      "metadata": {
        "id": "NS14hKiQ6GRI"
      },
      "execution_count": 18,
      "outputs": []
    },
    {
      "cell_type": "code",
      "source": [
        " voteclean = voteclean[voteclean[\"turnout_2016\"].isin([1,2])]"
      ],
      "metadata": {
        "id": "pWwCAEzT6GO5"
      },
      "execution_count": 20,
      "outputs": []
    },
    {
      "cell_type": "code",
      "source": [
        " voteclean = voteclean[voteclean[\"presvote_2016\"].isin([1,2])]"
      ],
      "metadata": {
        "id": "DIhHsmWA6GML"
      },
      "execution_count": 21,
      "outputs": []
    },
    {
      "cell_type": "code",
      "source": [
        " voteclean = voteclean[voteclean[\"obamaapp_2016\"].isin([1,2,3,4])]"
      ],
      "metadata": {
        "id": "aoOSr2Kw6GCo"
      },
      "execution_count": 23,
      "outputs": []
    },
    {
      "cell_type": "code",
      "source": [
        " voteclean = voteclean[voteclean[\"fairsociety_2016\"].isin([1,2,3,4])]"
      ],
      "metadata": {
        "id": "P0j-3jOckJ8B"
      },
      "execution_count": 24,
      "outputs": []
    },
    {
      "cell_type": "code",
      "source": [
        " voteclean = voteclean[voteclean[\"beliefinmedia_2016\"].isin([1,2,3,4])]"
      ],
      "metadata": {
        "id": "oUJsXbHAkJ5J"
      },
      "execution_count": 25,
      "outputs": []
    },
    {
      "cell_type": "code",
      "source": [
        " voteclean = voteclean[voteclean[\"persfinretro_2016\"].isin([1,2,3])]"
      ],
      "metadata": {
        "id": "gkFTdTvkkJ2v"
      },
      "execution_count": 26,
      "outputs": []
    },
    {
      "cell_type": "code",
      "source": [
        " voteclean = voteclean[voteclean[\"trustgovt_2016\"].isin([1,2,3])]"
      ],
      "metadata": {
        "id": "Crt9d-3mkJz6"
      },
      "execution_count": 27,
      "outputs": []
    },
    {
      "cell_type": "code",
      "source": [
        " voteclean = voteclean[voteclean[\"immi_contribution_2016\"].isin([1,2,3])]"
      ],
      "metadata": {
        "id": "8mpgXXADkJxM"
      },
      "execution_count": 28,
      "outputs": []
    },
    {
      "cell_type": "code",
      "source": [
        "voteclean = voteclean[voteclean[\"view_deathpen_2016\"].isin([1,2])]"
      ],
      "metadata": {
        "id": "403ZEwKEkJuY"
      },
      "execution_count": 29,
      "outputs": []
    },
    {
      "cell_type": "code",
      "source": [
        "voteclean = voteclean[voteclean[\"envwarm_2016\"].isin([1,2,3,4])]"
      ],
      "metadata": {
        "id": "kmBLppHSkJrn"
      },
      "execution_count": 30,
      "outputs": []
    },
    {
      "cell_type": "code",
      "source": [
        "voteclean = voteclean[voteclean[\"govtreg_business_2016\"].isin([1,2,3])]"
      ],
      "metadata": {
        "id": "dfjNnONUlPUj"
      },
      "execution_count": 31,
      "outputs": []
    },
    {
      "cell_type": "code",
      "source": [
        "voteclean = voteclean[voteclean[\"sexism_equality_2016\"].isin([1,2,3,4])]"
      ],
      "metadata": {
        "id": "4VBbM0zrlPKK"
      },
      "execution_count": 32,
      "outputs": []
    },
    {
      "cell_type": "code",
      "source": [
        "voteclean = voteclean[voteclean[\"gunowner_2016\"].isin([1,2,3])]"
      ],
      "metadata": {
        "id": "wPqhZQCslPIF"
      },
      "execution_count": 33,
      "outputs": []
    },
    {
      "cell_type": "code",
      "source": [
        "voteclean = voteclean[voteclean[\"marstat_2016\"].isin([1,2,3,4,5,6])]"
      ],
      "metadata": {
        "id": "1qfJjU8mlPFl"
      },
      "execution_count": 34,
      "outputs": []
    },
    {
      "cell_type": "code",
      "source": [
        "voteclean = voteclean[voteclean[\"employment_2016\"].isin([1,2,3,4,5,6])]"
      ],
      "metadata": {
        "id": "m0DheIeTmc9w"
      },
      "execution_count": 36,
      "outputs": []
    },
    {
      "cell_type": "code",
      "source": [
        "voteclean = voteclean[voteclean[\"newsint_2016\"].isin([1,2,3,4])]"
      ],
      "metadata": {
        "id": "PR__1iNSmc70"
      },
      "execution_count": 37,
      "outputs": []
    },
    {
      "cell_type": "code",
      "source": [
        "voteclean = voteclean[voteclean[\"religion_2016\"].isin([1,2,3,4,5,6,7,8,9,10,11,12])]"
      ],
      "metadata": {
        "id": "kcsNhQ4Hmc5g"
      },
      "execution_count": 38,
      "outputs": []
    },
    {
      "cell_type": "code",
      "source": [
        "voteclean.head()"
      ],
      "metadata": {
        "colab": {
          "base_uri": "https://localhost:8080/",
          "height": 270
        },
        "id": "ohG5Q3AWmc3f",
        "outputId": "1d3c0e06-3bcd-4d58-93b2-fbac8e52837f"
      },
      "execution_count": 39,
      "outputs": [
        {
          "output_type": "execute_result",
          "data": {
            "text/plain": [
              "   cdid_2016  votereg_2016  turnout_2016  presvote_2016  obamaapp_2016  \\\n",
              "0      602.0           1.0           1.0            1.0            1.0   \n",
              "1     5506.0           1.0           1.0            1.0            1.0   \n",
              "2     4828.0           1.0           1.0            2.0            4.0   \n",
              "4     5001.0           1.0           1.0            1.0            1.0   \n",
              "5     1206.0           1.0           1.0            1.0            2.0   \n",
              "\n",
              "   fairsociety_2016  beliefinmedia_2016  persfinretro_2016  trustgovt_2016  \\\n",
              "0               4.0                 4.0                2.0             3.0   \n",
              "1               4.0                 4.0                3.0             3.0   \n",
              "2               1.0                 1.0                2.0             3.0   \n",
              "4               3.0                 2.0                1.0             3.0   \n",
              "5               2.0                 4.0                2.0             3.0   \n",
              "\n",
              "   immi_contribution_2016  view_deathpen_2016  envwarm_2016  \\\n",
              "0                     1.0                 2.0           1.0   \n",
              "1                     1.0                 1.0           1.0   \n",
              "2                     3.0                 1.0           2.0   \n",
              "4                     1.0                 2.0           1.0   \n",
              "5                     1.0                 2.0           1.0   \n",
              "\n",
              "   govtreg_business_2016  sexism_equality_2016  gunowner_2016  educ_2016  \\\n",
              "0                    3.0                   4.0            3.0        5.0   \n",
              "1                    3.0                   3.0            1.0        2.0   \n",
              "2                    1.0                   2.0            3.0        5.0   \n",
              "4                    3.0                   4.0            3.0        3.0   \n",
              "5                    3.0                   4.0            2.0        6.0   \n",
              "\n",
              "   marstat_2016  employment_2016  newsint_2016  religion_2016  \n",
              "0           4.0              5.0           1.0            2.0  \n",
              "1           5.0              5.0           1.0            2.0  \n",
              "2           1.0              1.0           1.0            3.0  \n",
              "4           3.0              5.0           1.0            9.0  \n",
              "5           1.0              5.0           1.0            2.0  "
            ],
            "text/html": [
              "\n",
              "  <div id=\"df-a5817a65-dbe9-47ce-8b27-353e8a97e042\">\n",
              "    <div class=\"colab-df-container\">\n",
              "      <div>\n",
              "<style scoped>\n",
              "    .dataframe tbody tr th:only-of-type {\n",
              "        vertical-align: middle;\n",
              "    }\n",
              "\n",
              "    .dataframe tbody tr th {\n",
              "        vertical-align: top;\n",
              "    }\n",
              "\n",
              "    .dataframe thead th {\n",
              "        text-align: right;\n",
              "    }\n",
              "</style>\n",
              "<table border=\"1\" class=\"dataframe\">\n",
              "  <thead>\n",
              "    <tr style=\"text-align: right;\">\n",
              "      <th></th>\n",
              "      <th>cdid_2016</th>\n",
              "      <th>votereg_2016</th>\n",
              "      <th>turnout_2016</th>\n",
              "      <th>presvote_2016</th>\n",
              "      <th>obamaapp_2016</th>\n",
              "      <th>fairsociety_2016</th>\n",
              "      <th>beliefinmedia_2016</th>\n",
              "      <th>persfinretro_2016</th>\n",
              "      <th>trustgovt_2016</th>\n",
              "      <th>immi_contribution_2016</th>\n",
              "      <th>view_deathpen_2016</th>\n",
              "      <th>envwarm_2016</th>\n",
              "      <th>govtreg_business_2016</th>\n",
              "      <th>sexism_equality_2016</th>\n",
              "      <th>gunowner_2016</th>\n",
              "      <th>educ_2016</th>\n",
              "      <th>marstat_2016</th>\n",
              "      <th>employment_2016</th>\n",
              "      <th>newsint_2016</th>\n",
              "      <th>religion_2016</th>\n",
              "    </tr>\n",
              "  </thead>\n",
              "  <tbody>\n",
              "    <tr>\n",
              "      <th>0</th>\n",
              "      <td>602.0</td>\n",
              "      <td>1.0</td>\n",
              "      <td>1.0</td>\n",
              "      <td>1.0</td>\n",
              "      <td>1.0</td>\n",
              "      <td>4.0</td>\n",
              "      <td>4.0</td>\n",
              "      <td>2.0</td>\n",
              "      <td>3.0</td>\n",
              "      <td>1.0</td>\n",
              "      <td>2.0</td>\n",
              "      <td>1.0</td>\n",
              "      <td>3.0</td>\n",
              "      <td>4.0</td>\n",
              "      <td>3.0</td>\n",
              "      <td>5.0</td>\n",
              "      <td>4.0</td>\n",
              "      <td>5.0</td>\n",
              "      <td>1.0</td>\n",
              "      <td>2.0</td>\n",
              "    </tr>\n",
              "    <tr>\n",
              "      <th>1</th>\n",
              "      <td>5506.0</td>\n",
              "      <td>1.0</td>\n",
              "      <td>1.0</td>\n",
              "      <td>1.0</td>\n",
              "      <td>1.0</td>\n",
              "      <td>4.0</td>\n",
              "      <td>4.0</td>\n",
              "      <td>3.0</td>\n",
              "      <td>3.0</td>\n",
              "      <td>1.0</td>\n",
              "      <td>1.0</td>\n",
              "      <td>1.0</td>\n",
              "      <td>3.0</td>\n",
              "      <td>3.0</td>\n",
              "      <td>1.0</td>\n",
              "      <td>2.0</td>\n",
              "      <td>5.0</td>\n",
              "      <td>5.0</td>\n",
              "      <td>1.0</td>\n",
              "      <td>2.0</td>\n",
              "    </tr>\n",
              "    <tr>\n",
              "      <th>2</th>\n",
              "      <td>4828.0</td>\n",
              "      <td>1.0</td>\n",
              "      <td>1.0</td>\n",
              "      <td>2.0</td>\n",
              "      <td>4.0</td>\n",
              "      <td>1.0</td>\n",
              "      <td>1.0</td>\n",
              "      <td>2.0</td>\n",
              "      <td>3.0</td>\n",
              "      <td>3.0</td>\n",
              "      <td>1.0</td>\n",
              "      <td>2.0</td>\n",
              "      <td>1.0</td>\n",
              "      <td>2.0</td>\n",
              "      <td>3.0</td>\n",
              "      <td>5.0</td>\n",
              "      <td>1.0</td>\n",
              "      <td>1.0</td>\n",
              "      <td>1.0</td>\n",
              "      <td>3.0</td>\n",
              "    </tr>\n",
              "    <tr>\n",
              "      <th>4</th>\n",
              "      <td>5001.0</td>\n",
              "      <td>1.0</td>\n",
              "      <td>1.0</td>\n",
              "      <td>1.0</td>\n",
              "      <td>1.0</td>\n",
              "      <td>3.0</td>\n",
              "      <td>2.0</td>\n",
              "      <td>1.0</td>\n",
              "      <td>3.0</td>\n",
              "      <td>1.0</td>\n",
              "      <td>2.0</td>\n",
              "      <td>1.0</td>\n",
              "      <td>3.0</td>\n",
              "      <td>4.0</td>\n",
              "      <td>3.0</td>\n",
              "      <td>3.0</td>\n",
              "      <td>3.0</td>\n",
              "      <td>5.0</td>\n",
              "      <td>1.0</td>\n",
              "      <td>9.0</td>\n",
              "    </tr>\n",
              "    <tr>\n",
              "      <th>5</th>\n",
              "      <td>1206.0</td>\n",
              "      <td>1.0</td>\n",
              "      <td>1.0</td>\n",
              "      <td>1.0</td>\n",
              "      <td>2.0</td>\n",
              "      <td>2.0</td>\n",
              "      <td>4.0</td>\n",
              "      <td>2.0</td>\n",
              "      <td>3.0</td>\n",
              "      <td>1.0</td>\n",
              "      <td>2.0</td>\n",
              "      <td>1.0</td>\n",
              "      <td>3.0</td>\n",
              "      <td>4.0</td>\n",
              "      <td>2.0</td>\n",
              "      <td>6.0</td>\n",
              "      <td>1.0</td>\n",
              "      <td>5.0</td>\n",
              "      <td>1.0</td>\n",
              "      <td>2.0</td>\n",
              "    </tr>\n",
              "  </tbody>\n",
              "</table>\n",
              "</div>\n",
              "      <button class=\"colab-df-convert\" onclick=\"convertToInteractive('df-a5817a65-dbe9-47ce-8b27-353e8a97e042')\"\n",
              "              title=\"Convert this dataframe to an interactive table.\"\n",
              "              style=\"display:none;\">\n",
              "        \n",
              "  <svg xmlns=\"http://www.w3.org/2000/svg\" height=\"24px\"viewBox=\"0 0 24 24\"\n",
              "       width=\"24px\">\n",
              "    <path d=\"M0 0h24v24H0V0z\" fill=\"none\"/>\n",
              "    <path d=\"M18.56 5.44l.94 2.06.94-2.06 2.06-.94-2.06-.94-.94-2.06-.94 2.06-2.06.94zm-11 1L8.5 8.5l.94-2.06 2.06-.94-2.06-.94L8.5 2.5l-.94 2.06-2.06.94zm10 10l.94 2.06.94-2.06 2.06-.94-2.06-.94-.94-2.06-.94 2.06-2.06.94z\"/><path d=\"M17.41 7.96l-1.37-1.37c-.4-.4-.92-.59-1.43-.59-.52 0-1.04.2-1.43.59L10.3 9.45l-7.72 7.72c-.78.78-.78 2.05 0 2.83L4 21.41c.39.39.9.59 1.41.59.51 0 1.02-.2 1.41-.59l7.78-7.78 2.81-2.81c.8-.78.8-2.07 0-2.86zM5.41 20L4 18.59l7.72-7.72 1.47 1.35L5.41 20z\"/>\n",
              "  </svg>\n",
              "      </button>\n",
              "      \n",
              "  <style>\n",
              "    .colab-df-container {\n",
              "      display:flex;\n",
              "      flex-wrap:wrap;\n",
              "      gap: 12px;\n",
              "    }\n",
              "\n",
              "    .colab-df-convert {\n",
              "      background-color: #E8F0FE;\n",
              "      border: none;\n",
              "      border-radius: 50%;\n",
              "      cursor: pointer;\n",
              "      display: none;\n",
              "      fill: #1967D2;\n",
              "      height: 32px;\n",
              "      padding: 0 0 0 0;\n",
              "      width: 32px;\n",
              "    }\n",
              "\n",
              "    .colab-df-convert:hover {\n",
              "      background-color: #E2EBFA;\n",
              "      box-shadow: 0px 1px 2px rgba(60, 64, 67, 0.3), 0px 1px 3px 1px rgba(60, 64, 67, 0.15);\n",
              "      fill: #174EA6;\n",
              "    }\n",
              "\n",
              "    [theme=dark] .colab-df-convert {\n",
              "      background-color: #3B4455;\n",
              "      fill: #D2E3FC;\n",
              "    }\n",
              "\n",
              "    [theme=dark] .colab-df-convert:hover {\n",
              "      background-color: #434B5C;\n",
              "      box-shadow: 0px 1px 3px 1px rgba(0, 0, 0, 0.15);\n",
              "      filter: drop-shadow(0px 1px 2px rgba(0, 0, 0, 0.3));\n",
              "      fill: #FFFFFF;\n",
              "    }\n",
              "  </style>\n",
              "\n",
              "      <script>\n",
              "        const buttonEl =\n",
              "          document.querySelector('#df-a5817a65-dbe9-47ce-8b27-353e8a97e042 button.colab-df-convert');\n",
              "        buttonEl.style.display =\n",
              "          google.colab.kernel.accessAllowed ? 'block' : 'none';\n",
              "\n",
              "        async function convertToInteractive(key) {\n",
              "          const element = document.querySelector('#df-a5817a65-dbe9-47ce-8b27-353e8a97e042');\n",
              "          const dataTable =\n",
              "            await google.colab.kernel.invokeFunction('convertToInteractive',\n",
              "                                                     [key], {});\n",
              "          if (!dataTable) return;\n",
              "\n",
              "          const docLinkHtml = 'Like what you see? Visit the ' +\n",
              "            '<a target=\"_blank\" href=https://colab.research.google.com/notebooks/data_table.ipynb>data table notebook</a>'\n",
              "            + ' to learn more about interactive tables.';\n",
              "          element.innerHTML = '';\n",
              "          dataTable['output_type'] = 'display_data';\n",
              "          await google.colab.output.renderOutput(dataTable, element);\n",
              "          const docLink = document.createElement('div');\n",
              "          docLink.innerHTML = docLinkHtml;\n",
              "          element.appendChild(docLink);\n",
              "        }\n",
              "      </script>\n",
              "    </div>\n",
              "  </div>\n",
              "  "
            ]
          },
          "metadata": {},
          "execution_count": 39
        }
      ]
    },
    {
      "cell_type": "code",
      "source": [
        "#Después de esto se quitan las variables cdid, votereg y turnout, que solo eran variables que nos ayudaban\n",
        "# a validar que las personas si hayan votado, estuvieran registradas y fueran a la elección."
      ],
      "metadata": {
        "id": "nmpKi4eLmc0w"
      },
      "execution_count": null,
      "outputs": []
    },
    {
      "cell_type": "code",
      "source": [
        "voteclean = voteclean.drop(\"cdid_2016\", axis=1)"
      ],
      "metadata": {
        "id": "vHGwnD3Mmcyr"
      },
      "execution_count": 40,
      "outputs": []
    },
    {
      "cell_type": "code",
      "source": [
        "voteclean = voteclean.drop(\"votereg_2016\", axis=1)"
      ],
      "metadata": {
        "id": "0dBKMxQ-mcwc"
      },
      "execution_count": 41,
      "outputs": []
    },
    {
      "cell_type": "code",
      "source": [
        "voteclean = voteclean.drop(\"turnout_2016\", axis=1)"
      ],
      "metadata": {
        "id": "Jg3aTyiDrmOt"
      },
      "execution_count": 42,
      "outputs": []
    },
    {
      "cell_type": "code",
      "source": [
        "voteclean['presvote_2016'] = voteclean['presvote_2016'].replace([1,2],[0,1])"
      ],
      "metadata": {
        "id": "p-MWknfu2h8y"
      },
      "execution_count": 72,
      "outputs": []
    },
    {
      "cell_type": "code",
      "source": [
        "voteclean.shape"
      ],
      "metadata": {
        "colab": {
          "base_uri": "https://localhost:8080/"
        },
        "id": "Z15HuBvv5kOM",
        "outputId": "2af9e27e-597e-42d4-9f99-6c8f64170198"
      },
      "execution_count": 105,
      "outputs": [
        {
          "output_type": "execute_result",
          "data": {
            "text/plain": [
              "(4326, 17)"
            ]
          },
          "metadata": {},
          "execution_count": 105
        }
      ]
    },
    {
      "cell_type": "markdown",
      "source": [
        "# **Estadística Descriptiva**"
      ],
      "metadata": {
        "id": "JtnJhliSPMYd"
      }
    },
    {
      "cell_type": "code",
      "source": [
        "import matplotlib.pyplot as plt\n",
        "import seaborn as sns"
      ],
      "metadata": {
        "id": "Q2gghZF6YOKU"
      },
      "execution_count": 73,
      "outputs": []
    },
    {
      "cell_type": "code",
      "source": [
        "labels = ['Hillary', 'Trump']\n",
        "size = voteclean['presvote_2016'].value_counts()\n",
        "colors = plt.cm.Wistia(np.linspace(0, 1, 2))\n",
        "explode = [0, 0.1]\n",
        "plt.rcParams['figure.figsize'] = (9, 9)\n",
        "plt.pie(size,labels=labels, colors = colors, explode = explode, shadow = True, startangle = 90)\n",
        "plt.title('Distribución del Voto en 2016', fontsize = 25)\n",
        "plt.legend()\n",
        "plt.show()"
      ],
      "metadata": {
        "id": "bO3vgbcVYN8P",
        "colab": {
          "base_uri": "https://localhost:8080/",
          "height": 545
        },
        "outputId": "2b6ebd4f-3e02-4bd9-8579-2faa6683c5bc"
      },
      "execution_count": 74,
      "outputs": [
        {
          "output_type": "display_data",
          "data": {
            "text/plain": [
              "<Figure size 648x648 with 1 Axes>"
            ],
            "image/png": "[encoded data removed]"
          },
          "metadata": {}
        }
      ]
    },
    {
      "cell_type": "code",
      "source": [
        "labels = ['A favor', 'En contra']\n",
        "size = voteclean['view_deathpen_2016'].value_counts()\n",
        "colors = plt.cm.Wistia(np.linspace(0, 1, 2))\n",
        "explode = [0, 0.1]\n",
        "plt.rcParams['figure.figsize'] = (9, 9)\n",
        "plt.pie(size,labels=labels, colors = colors, explode = explode, shadow = True, startangle = 90)\n",
        "plt.title('Opinión sobre la Pena de Muerte 2016', fontsize = 25)\n",
        "plt.legend()\n",
        "plt.show()"
      ],
      "metadata": {
        "colab": {
          "base_uri": "https://localhost:8080/",
          "height": 547
        },
        "id": "mOGqKDtTvVHF",
        "outputId": "8f1abf00-2576-49fa-abfa-e66bdbfbf0c6"
      },
      "execution_count": 75,
      "outputs": [
        {
          "output_type": "display_data",
          "data": {
            "text/plain": [
              "<Figure size 648x648 with 1 Axes>"
            ],
            "image/png": "[encoded data removed]"
          },
          "metadata": {}
        }
      ]
    },
    {
      "cell_type": "code",
      "source": [
        "print(voteclean[\"obamaapp_2016\"].value_counts())"
      ],
      "metadata": {
        "colab": {
          "base_uri": "https://localhost:8080/"
        },
        "id": "h5OCTrAtu6Cc",
        "outputId": "9b5d6fdf-6339-4e68-8181-3bbdfe376935"
      },
      "execution_count": 76,
      "outputs": [
        {
          "output_type": "stream",
          "name": "stdout",
          "text": [
            "4.0    1860\n",
            "1.0    1386\n",
            "2.0     743\n",
            "3.0     337\n",
            "Name: obamaapp_2016, dtype: int64\n"
          ]
        }
      ]
    },
    {
      "cell_type": "code",
      "source": [
        "print(voteclean[\"fairsociety_2016\"].value_counts())"
      ],
      "metadata": {
        "colab": {
          "base_uri": "https://localhost:8080/"
        },
        "id": "xRY6oaTiu6AI",
        "outputId": "23dfa5c9-2957-48a2-b4e5-637288f34ddc"
      },
      "execution_count": 77,
      "outputs": [
        {
          "output_type": "stream",
          "name": "stdout",
          "text": [
            "2.0    1638\n",
            "3.0    1306\n",
            "1.0     814\n",
            "4.0     568\n",
            "Name: fairsociety_2016, dtype: int64\n"
          ]
        }
      ]
    },
    {
      "cell_type": "code",
      "source": [
        "print(voteclean[\"beliefinmedia_2016\"].value_counts())"
      ],
      "metadata": {
        "colab": {
          "base_uri": "https://localhost:8080/"
        },
        "id": "2PUhm4J2u54E",
        "outputId": "46ddf761-2048-4539-9e8f-b2133577f4d7"
      },
      "execution_count": 78,
      "outputs": [
        {
          "output_type": "stream",
          "name": "stdout",
          "text": [
            "1.0    1791\n",
            "2.0    1134\n",
            "3.0    1043\n",
            "4.0     358\n",
            "Name: beliefinmedia_2016, dtype: int64\n"
          ]
        }
      ]
    },
    {
      "cell_type": "code",
      "source": [
        "print(voteclean[\"view_deathpen_2016\"].value_counts())"
      ],
      "metadata": {
        "colab": {
          "base_uri": "https://localhost:8080/"
        },
        "id": "woQohgFxu5to",
        "outputId": "e01f7b77-e2f4-448f-cea4-faa311341ac2"
      },
      "execution_count": 79,
      "outputs": [
        {
          "output_type": "stream",
          "name": "stdout",
          "text": [
            "1.0    2794\n",
            "2.0    1532\n",
            "Name: view_deathpen_2016, dtype: int64\n"
          ]
        }
      ]
    },
    {
      "cell_type": "markdown",
      "source": [
        "# Metodología y Resultados"
      ],
      "metadata": {
        "id": "yJ3Mi1w9wXvM"
      }
    },
    {
      "cell_type": "code",
      "source": [
        "X=voteclean.drop(\"presvote_2016\", axis=1)\n",
        "Y=voteclean[\"presvote_2016\"]"
      ],
      "metadata": {
        "id": "-ELkKUPkw3BF"
      },
      "execution_count": 80,
      "outputs": []
    },
    {
      "cell_type": "code",
      "source": [
        "from sklearn.model_selection import train_test_split\n",
        "\n",
        "X_train, X_test, Y_train, Y_test = train_test_split(X, Y, test_size=0.25, random_state=16)"
      ],
      "metadata": {
        "id": "2E8ZG0POwapx"
      },
      "execution_count": 81,
      "outputs": []
    },
    {
      "cell_type": "code",
      "source": [
        "from sklearn.linear_model import LogisticRegression\n",
        "\n",
        "logreg = LogisticRegression(random_state=16)\n",
        "\n",
        "modelo1 = logreg.fit(X_train, Y_train)\n",
        "\n",
        "Y_pred = logreg.predict(X_test)"
      ],
      "metadata": {
        "id": "UAcUJxNzwbLr"
      },
      "execution_count": 82,
      "outputs": []
    },
    {
      "cell_type": "code",
      "source": [
        "print(modelo1.coef_, modelo1.intercept_)"
      ],
      "metadata": {
        "colab": {
          "base_uri": "https://localhost:8080/"
        },
        "id": "cOGuUTfNwbJY",
        "outputId": "1a10ed15-1cc7-4bf4-a8bc-d3255f49ba7d"
      },
      "execution_count": 83,
      "outputs": [
        {
          "output_type": "stream",
          "name": "stdout",
          "text": [
            "[[ 1.77998059 -0.79223766 -0.63789003  0.43629723 -0.0039685   0.77694323\n",
            "  -0.17784854  0.70978399 -0.67951885 -0.33715949 -0.262153    0.00495878\n",
            "  -0.0279759  -0.09631143  0.04215578 -0.00504236]] [-2.16356927]\n"
          ]
        }
      ]
    },
    {
      "cell_type": "code",
      "source": [
        "import statsmodels.api as sm\n",
        "logit_model=sm.Logit(Y,X)\n",
        "result=logit_model.fit()\n",
        "print(result.summary())"
      ],
      "metadata": {
        "colab": {
          "base_uri": "https://localhost:8080/"
        },
        "id": "F9J6PRriwbHf",
        "outputId": "15a69c60-1ae2-4977-f28a-d909ec204fae"
      },
      "execution_count": 84,
      "outputs": [
        {
          "output_type": "stream",
          "name": "stdout",
          "text": [
            "Optimization terminated successfully.\n",
            "         Current function value: 0.108672\n",
            "         Iterations 9\n",
            "                           Logit Regression Results                           \n",
            "==============================================================================\n",
            "Dep. Variable:          presvote_2016   No. Observations:                 4326\n",
            "Model:                          Logit   Df Residuals:                     4310\n",
            "Method:                           MLE   Df Model:                           15\n",
            "Date:                Mon, 20 Mar 2023   Pseudo R-squ.:                  0.8432\n",
            "Time:                        16:31:16   Log-Likelihood:                -470.11\n",
            "converged:                       True   LL-Null:                       -2998.3\n",
            "Covariance Type:            nonrobust   LLR p-value:                     0.000\n",
            "==========================================================================================\n",
            "                             coef    std err          z      P>|z|      [0.025      0.975]\n",
            "------------------------------------------------------------------------------------------\n",
            "obamaapp_2016              1.8421      0.095     19.378      0.000       1.656       2.028\n",
            "fairsociety_2016          -0.7643      0.118     -6.468      0.000      -0.996      -0.533\n",
            "beliefinmedia_2016        -0.7642      0.111     -6.904      0.000      -0.981      -0.547\n",
            "persfinretro_2016          0.3326      0.147      2.267      0.023       0.045       0.620\n",
            "trustgovt_2016            -0.3923      0.186     -2.110      0.035      -0.757      -0.028\n",
            "immi_contribution_2016     0.7436      0.103      7.202      0.000       0.541       0.946\n",
            "view_deathpen_2016        -0.3906      0.206     -1.892      0.058      -0.795       0.014\n",
            "envwarm_2016               0.5794      0.107      5.397      0.000       0.369       0.790\n",
            "govtreg_business_2016     -0.7113      0.112     -6.352      0.000      -0.931      -0.492\n",
            "sexism_equality_2016      -0.3542      0.094     -3.773      0.000      -0.538      -0.170\n",
            "gunowner_2016             -0.1945      0.096     -2.032      0.042      -0.382      -0.007\n",
            "educ_2016                 -0.0185      0.064     -0.290      0.772      -0.143       0.106\n",
            "marstat_2016              -0.0537      0.052     -1.025      0.305      -0.156       0.049\n",
            "employment_2016           -0.1008      0.048     -2.101      0.036      -0.195      -0.007\n",
            "newsint_2016              -0.0230      0.111     -0.206      0.837      -0.241       0.195\n",
            "religion_2016             -0.0162      0.021     -0.758      0.448      -0.058       0.026\n",
            "==========================================================================================\n"
          ]
        }
      ]
    },
    {
      "cell_type": "code",
      "source": [
        "#Se observa que la variable de las noticias no es significativa, por lo que se considera dejarla."
      ],
      "metadata": {
        "id": "GHdJmbPywbE6"
      },
      "execution_count": null,
      "outputs": []
    },
    {
      "cell_type": "code",
      "source": [
        "X = X.drop(\"newsint_2016\", axis=1)"
      ],
      "metadata": {
        "id": "DaU7G6AG3adC"
      },
      "execution_count": 85,
      "outputs": []
    },
    {
      "cell_type": "code",
      "source": [
        "X_train, X_test, Y_train, Y_test = train_test_split(X, Y, test_size=0.25, random_state=16)"
      ],
      "metadata": {
        "id": "WhEQGmf83lR-"
      },
      "execution_count": 86,
      "outputs": []
    },
    {
      "cell_type": "code",
      "source": [
        "logreg = LogisticRegression(random_state=16)\n",
        "\n",
        "modelo2 = logreg.fit(X_train, Y_train)\n",
        "\n",
        "Y_pred = logreg.predict(X_test)"
      ],
      "metadata": {
        "id": "PtkqOyXb3n0n"
      },
      "execution_count": 88,
      "outputs": []
    },
    {
      "cell_type": "code",
      "source": [
        "logit_model=sm.Logit(Y,X)\n",
        "result=logit_model.fit()\n",
        "print(result.summary())"
      ],
      "metadata": {
        "colab": {
          "base_uri": "https://localhost:8080/"
        },
        "id": "eOq0Ck1W3nyV",
        "outputId": "5e905158-1b5f-479e-998a-8c8e82ccab57"
      },
      "execution_count": 89,
      "outputs": [
        {
          "output_type": "stream",
          "name": "stdout",
          "text": [
            "Optimization terminated successfully.\n",
            "         Current function value: 0.108676\n",
            "         Iterations 9\n",
            "                           Logit Regression Results                           \n",
            "==============================================================================\n",
            "Dep. Variable:          presvote_2016   No. Observations:                 4326\n",
            "Model:                          Logit   Df Residuals:                     4311\n",
            "Method:                           MLE   Df Model:                           14\n",
            "Date:                Mon, 20 Mar 2023   Pseudo R-squ.:                  0.8432\n",
            "Time:                        16:34:09   Log-Likelihood:                -470.13\n",
            "converged:                       True   LL-Null:                       -2998.3\n",
            "Covariance Type:            nonrobust   LLR p-value:                     0.000\n",
            "==========================================================================================\n",
            "                             coef    std err          z      P>|z|      [0.025      0.975]\n",
            "------------------------------------------------------------------------------------------\n",
            "obamaapp_2016              1.8421      0.095     19.376      0.000       1.656       2.028\n",
            "fairsociety_2016          -0.7642      0.118     -6.468      0.000      -0.996      -0.533\n",
            "beliefinmedia_2016        -0.7657      0.110     -6.931      0.000      -0.982      -0.549\n",
            "persfinretro_2016          0.3307      0.146      2.259      0.024       0.044       0.618\n",
            "trustgovt_2016            -0.3949      0.185     -2.129      0.033      -0.758      -0.031\n",
            "immi_contribution_2016     0.7419      0.103      7.208      0.000       0.540       0.944\n",
            "view_deathpen_2016        -0.3901      0.206     -1.890      0.059      -0.795       0.014\n",
            "envwarm_2016               0.5772      0.107      5.406      0.000       0.368       0.786\n",
            "govtreg_business_2016     -0.7145      0.111     -6.442      0.000      -0.932      -0.497\n",
            "sexism_equality_2016      -0.3563      0.093     -3.818      0.000      -0.539      -0.173\n",
            "gunowner_2016             -0.1973      0.095     -2.082      0.037      -0.383      -0.012\n",
            "educ_2016                 -0.0172      0.063     -0.272      0.786      -0.142       0.107\n",
            "marstat_2016              -0.0542      0.052     -1.035      0.301      -0.157       0.048\n",
            "employment_2016           -0.1008      0.048     -2.101      0.036      -0.195      -0.007\n",
            "religion_2016             -0.0163      0.021     -0.765      0.444      -0.058       0.026\n",
            "==========================================================================================\n"
          ]
        }
      ]
    },
    {
      "cell_type": "code",
      "source": [
        "#La siguiente variable en no ser significativa es la de educación, por lo que también se quita."
      ],
      "metadata": {
        "id": "lSH0fZbW3nvQ"
      },
      "execution_count": null,
      "outputs": []
    },
    {
      "cell_type": "code",
      "source": [
        "X = X.drop(\"educ_2016\", axis=1)"
      ],
      "metadata": {
        "id": "iYwPQmdy36I8"
      },
      "execution_count": 90,
      "outputs": []
    },
    {
      "cell_type": "code",
      "source": [
        "X_train, X_test, Y_train, Y_test = train_test_split(X, Y, test_size=0.25, random_state=16)\n",
        "logreg = LogisticRegression(random_state=16)\n",
        "\n",
        "modelo2 = logreg.fit(X_train, Y_train)\n",
        "\n",
        "Y_pred = logreg.predict(X_test)"
      ],
      "metadata": {
        "id": "r8MFKw1v36FS"
      },
      "execution_count": 91,
      "outputs": []
    },
    {
      "cell_type": "code",
      "source": [
        "logit_model=sm.Logit(Y,X)\n",
        "result=logit_model.fit()\n",
        "print(result.summary())"
      ],
      "metadata": {
        "colab": {
          "base_uri": "https://localhost:8080/"
        },
        "id": "IgY_sPbI357x",
        "outputId": "2cfbb98b-fa37-4a02-8d6c-2ed47ace1c06"
      },
      "execution_count": 92,
      "outputs": [
        {
          "output_type": "stream",
          "name": "stdout",
          "text": [
            "Optimization terminated successfully.\n",
            "         Current function value: 0.108685\n",
            "         Iterations 9\n",
            "                           Logit Regression Results                           \n",
            "==============================================================================\n",
            "Dep. Variable:          presvote_2016   No. Observations:                 4326\n",
            "Model:                          Logit   Df Residuals:                     4312\n",
            "Method:                           MLE   Df Model:                           13\n",
            "Date:                Mon, 20 Mar 2023   Pseudo R-squ.:                  0.8432\n",
            "Time:                        16:35:24   Log-Likelihood:                -470.17\n",
            "converged:                       True   LL-Null:                       -2998.3\n",
            "Covariance Type:            nonrobust   LLR p-value:                     0.000\n",
            "==========================================================================================\n",
            "                             coef    std err          z      P>|z|      [0.025      0.975]\n",
            "------------------------------------------------------------------------------------------\n",
            "obamaapp_2016              1.8407      0.095     19.388      0.000       1.655       2.027\n",
            "fairsociety_2016          -0.7666      0.118     -6.507      0.000      -0.998      -0.536\n",
            "beliefinmedia_2016        -0.7700      0.109     -7.044      0.000      -0.984      -0.556\n",
            "persfinretro_2016          0.3307      0.146      2.259      0.024       0.044       0.618\n",
            "trustgovt_2016            -0.4107      0.176     -2.332      0.020      -0.756      -0.065\n",
            "immi_contribution_2016     0.7441      0.103      7.249      0.000       0.543       0.945\n",
            "view_deathpen_2016        -0.4008      0.203     -1.978      0.048      -0.798      -0.004\n",
            "envwarm_2016               0.5756      0.107      5.399      0.000       0.367       0.785\n",
            "govtreg_business_2016     -0.7145      0.111     -6.443      0.000      -0.932      -0.497\n",
            "sexism_equality_2016      -0.3555      0.093     -3.812      0.000      -0.538      -0.173\n",
            "gunowner_2016             -0.1996      0.094     -2.116      0.034      -0.385      -0.015\n",
            "marstat_2016              -0.0542      0.052     -1.036      0.300      -0.157       0.048\n",
            "employment_2016           -0.0968      0.046     -2.122      0.034      -0.186      -0.007\n",
            "religion_2016             -0.0160      0.021     -0.750      0.453      -0.058       0.026\n",
            "==========================================================================================\n"
          ]
        }
      ]
    },
    {
      "cell_type": "code",
      "source": [
        "#Por último se observa que la variable religión marca no significativa, por lo que también se quita."
      ],
      "metadata": {
        "id": "TNVn6pfq355m"
      },
      "execution_count": null,
      "outputs": []
    },
    {
      "cell_type": "code",
      "source": [
        "X = X.drop(\"religion_2016\", axis=1)"
      ],
      "metadata": {
        "id": "g0JGOImK353Q"
      },
      "execution_count": 93,
      "outputs": []
    },
    {
      "cell_type": "code",
      "source": [
        "X_train, X_test, Y_train, Y_test = train_test_split(X, Y, test_size=0.25, random_state=16)\n",
        "logreg = LogisticRegression(random_state=16)\n",
        "\n",
        "modelo2 = logreg.fit(X_train, Y_train)\n",
        "\n",
        "Y_pred = logreg.predict(X_test)"
      ],
      "metadata": {
        "id": "4A6T0sc74UL4"
      },
      "execution_count": 94,
      "outputs": []
    },
    {
      "cell_type": "code",
      "source": [
        "logit_model=sm.Logit(Y,X)\n",
        "result=logit_model.fit()\n",
        "print(result.summary())"
      ],
      "metadata": {
        "colab": {
          "base_uri": "https://localhost:8080/"
        },
        "id": "3844yvul4UJ1",
        "outputId": "8b2a149a-f7a2-4829-d50d-001d0a14b5ce"
      },
      "execution_count": 95,
      "outputs": [
        {
          "output_type": "stream",
          "name": "stdout",
          "text": [
            "Optimization terminated successfully.\n",
            "         Current function value: 0.108750\n",
            "         Iterations 9\n",
            "                           Logit Regression Results                           \n",
            "==============================================================================\n",
            "Dep. Variable:          presvote_2016   No. Observations:                 4326\n",
            "Model:                          Logit   Df Residuals:                     4313\n",
            "Method:                           MLE   Df Model:                           12\n",
            "Date:                Mon, 20 Mar 2023   Pseudo R-squ.:                  0.8431\n",
            "Time:                        16:36:55   Log-Likelihood:                -470.45\n",
            "converged:                       True   LL-Null:                       -2998.3\n",
            "Covariance Type:            nonrobust   LLR p-value:                     0.000\n",
            "==========================================================================================\n",
            "                             coef    std err          z      P>|z|      [0.025      0.975]\n",
            "------------------------------------------------------------------------------------------\n",
            "obamaapp_2016              1.8444      0.095     19.429      0.000       1.658       2.030\n",
            "fairsociety_2016          -0.7785      0.117     -6.662      0.000      -1.007      -0.549\n",
            "beliefinmedia_2016        -0.7741      0.109     -7.099      0.000      -0.988      -0.560\n",
            "persfinretro_2016          0.3274      0.146      2.238      0.025       0.041       0.614\n",
            "trustgovt_2016            -0.4209      0.176     -2.398      0.016      -0.765      -0.077\n",
            "immi_contribution_2016     0.7454      0.103      7.267      0.000       0.544       0.946\n",
            "view_deathpen_2016        -0.4072      0.202     -2.013      0.044      -0.804      -0.011\n",
            "envwarm_2016               0.5770      0.107      5.414      0.000       0.368       0.786\n",
            "govtreg_business_2016     -0.7186      0.111     -6.489      0.000      -0.936      -0.502\n",
            "sexism_equality_2016      -0.3527      0.093     -3.787      0.000      -0.535      -0.170\n",
            "gunowner_2016             -0.2020      0.094     -2.144      0.032      -0.387      -0.017\n",
            "marstat_2016              -0.0550      0.052     -1.053      0.292      -0.157       0.047\n",
            "employment_2016           -0.0945      0.046     -2.076      0.038      -0.184      -0.005\n",
            "==========================================================================================\n"
          ]
        }
      ]
    },
    {
      "cell_type": "code",
      "source": [
        "#Finalmente, la variable de estatus marital no da significativa, por lo que se procede a quitar."
      ],
      "metadata": {
        "id": "bBXIX2Wn4UHz"
      },
      "execution_count": null,
      "outputs": []
    },
    {
      "cell_type": "code",
      "source": [
        "X = X.drop(\"marstat_2016\", axis=1)"
      ],
      "metadata": {
        "id": "D2fd_zUA4UFm"
      },
      "execution_count": 96,
      "outputs": []
    },
    {
      "cell_type": "code",
      "source": [
        "X_train, X_test, Y_train, Y_test = train_test_split(X, Y, test_size=0.25, random_state=16)\n",
        "logreg = LogisticRegression(random_state=16)\n",
        "\n",
        "modelo2 = logreg.fit(X_train, Y_train)\n",
        "\n",
        "Y_pred = logreg.predict(X_test)"
      ],
      "metadata": {
        "id": "tHGH94oT4UC8"
      },
      "execution_count": 97,
      "outputs": []
    },
    {
      "cell_type": "code",
      "source": [
        "logit_model=sm.Logit(Y,X)\n",
        "result=logit_model.fit()\n",
        "print(result.summary())"
      ],
      "metadata": {
        "colab": {
          "base_uri": "https://localhost:8080/"
        },
        "id": "MAO-s0TU4wp3",
        "outputId": "9d6bbb59-85c9-48f7-8d40-c5373efff024"
      },
      "execution_count": 98,
      "outputs": [
        {
          "output_type": "stream",
          "name": "stdout",
          "text": [
            "Optimization terminated successfully.\n",
            "         Current function value: 0.108879\n",
            "         Iterations 9\n",
            "                           Logit Regression Results                           \n",
            "==============================================================================\n",
            "Dep. Variable:          presvote_2016   No. Observations:                 4326\n",
            "Model:                          Logit   Df Residuals:                     4314\n",
            "Method:                           MLE   Df Model:                           11\n",
            "Date:                Mon, 20 Mar 2023   Pseudo R-squ.:                  0.8429\n",
            "Time:                        16:38:37   Log-Likelihood:                -471.01\n",
            "converged:                       True   LL-Null:                       -2998.3\n",
            "Covariance Type:            nonrobust   LLR p-value:                     0.000\n",
            "==========================================================================================\n",
            "                             coef    std err          z      P>|z|      [0.025      0.975]\n",
            "------------------------------------------------------------------------------------------\n",
            "obamaapp_2016              1.8440      0.095     19.435      0.000       1.658       2.030\n",
            "fairsociety_2016          -0.7830      0.117     -6.706      0.000      -1.012      -0.554\n",
            "beliefinmedia_2016        -0.7783      0.109     -7.144      0.000      -0.992      -0.565\n",
            "persfinretro_2016          0.3173      0.146      2.179      0.029       0.032       0.603\n",
            "trustgovt_2016            -0.4222      0.176     -2.405      0.016      -0.766      -0.078\n",
            "immi_contribution_2016     0.7418      0.102      7.247      0.000       0.541       0.942\n",
            "view_deathpen_2016        -0.4251      0.201     -2.111      0.035      -0.820      -0.030\n",
            "envwarm_2016               0.5793      0.107      5.439      0.000       0.371       0.788\n",
            "govtreg_business_2016     -0.7361      0.109     -6.727      0.000      -0.951      -0.522\n",
            "sexism_equality_2016      -0.3508      0.093     -3.774      0.000      -0.533      -0.169\n",
            "gunowner_2016             -0.2135      0.093     -2.284      0.022      -0.397      -0.030\n",
            "employment_2016           -0.0946      0.045     -2.084      0.037      -0.184      -0.006\n",
            "==========================================================================================\n"
          ]
        }
      ]
    },
    {
      "cell_type": "code",
      "source": [
        "#Decidimos quedarnos con este resultado ya que todas las variables son significativas y se tiene una R cuadrada de nivel más que aceptable."
      ],
      "metadata": {
        "id": "xfwNUEhj4wol"
      },
      "execution_count": null,
      "outputs": []
    },
    {
      "cell_type": "code",
      "source": [
        "from sklearn import metrics\n",
        "\n",
        "cnf_matrix = metrics.confusion_matrix(Y_test, Y_pred)\n",
        "cnf_matrix"
      ],
      "metadata": {
        "colab": {
          "base_uri": "https://localhost:8080/"
        },
        "id": "Y7kCI9dZ4wjC",
        "outputId": "a69909b4-a719-4ea9-97b3-7ea1d06c967b"
      },
      "execution_count": 100,
      "outputs": [
        {
          "output_type": "execute_result",
          "data": {
            "text/plain": [
              "array([[538,  23],\n",
              "       [ 28, 493]])"
            ]
          },
          "metadata": {},
          "execution_count": 100
        }
      ]
    },
    {
      "cell_type": "code",
      "source": [
        "import numpy as np\n",
        "import matplotlib.pyplot as plt\n",
        "import seaborn as sns\n",
        "plt.figure(figsize = (6,4))\n",
        "class_names=[0,1] # name  of classes\n",
        "tick_marks = np.arange(len(class_names))\n",
        "plt.xticks(tick_marks, class_names)\n",
        "plt.yticks(tick_marks, class_names)\n",
        "# create heatmap\n",
        "sns.heatmap(pd.DataFrame(cnf_matrix), annot=True, cmap=\"YlGnBu\" ,fmt='g')\n",
        "ax.xaxis.set_label_position(\"top\")\n",
        "plt.tight_layout()\n",
        "plt.title('Confusion matrix', y=1.1)\n",
        "plt.ylabel('Actual label')\n",
        "plt.xlabel('Predicted label')"
      ],
      "metadata": {
        "colab": {
          "base_uri": "https://localhost:8080/",
          "height": 370
        },
        "id": "H0kxqvC34wgj",
        "outputId": "d3a675aa-eb31-4360-85ed-f16f2ce9ad5b"
      },
      "execution_count": 117,
      "outputs": [
        {
          "output_type": "execute_result",
          "data": {
            "text/plain": [
              "Text(0.5, 15.0, 'Predicted label')"
            ]
          },
          "metadata": {},
          "execution_count": 117
        },
        {
          "output_type": "display_data",
          "data": {
            "text/plain": [
              "<Figure size 432x288 with 2 Axes>"
            ],
            "image/png": "[encoded data removed]"
          },
          "metadata": {
            "needs_background": "light"
          }
        }
      ]
    },
    {
      "cell_type": "code",
      "source": [
        "from sklearn.metrics import classification_report\n",
        "target_names = ['Votos a favor de Trump', 'Votos en Contra de Trump']\n",
        "print(classification_report(Y_test, Y_pred, target_names=target_names))"
      ],
      "metadata": {
        "colab": {
          "base_uri": "https://localhost:8080/"
        },
        "id": "CZpuOeX-4wet",
        "outputId": "4b01b4dc-3215-4815-aa83-dc6494e10903"
      },
      "execution_count": 106,
      "outputs": [
        {
          "output_type": "stream",
          "name": "stdout",
          "text": [
            "                          precision    recall  f1-score   support\n",
            "\n",
            "  Votos a favor de Trump       0.95      0.96      0.95       561\n",
            "Votos en Contra de Trump       0.96      0.95      0.95       521\n",
            "\n",
            "                accuracy                           0.95      1082\n",
            "               macro avg       0.95      0.95      0.95      1082\n",
            "            weighted avg       0.95      0.95      0.95      1082\n",
            "\n"
          ]
        }
      ]
    },
    {
      "cell_type": "code",
      "source": [
        "Y_pred_proba = logreg.predict_proba(X_test)[::,1]\n",
        "fpr, tpr, _ = metrics.roc_curve(Y_test,  Y_pred_proba)\n",
        "auc = metrics.roc_auc_score(Y_test, Y_pred_proba)\n",
        "plt.plot(fpr,tpr,label=\"data 1, auc=\"+str(auc))\n",
        "plt.legend(loc=4)\n",
        "plt.show()"
      ],
      "metadata": {
        "colab": {
          "base_uri": "https://localhost:8080/",
          "height": 537
        },
        "id": "4ePAF4sr4wcV",
        "outputId": "3bb82eab-667f-485f-f2d3-cb236d5210eb"
      },
      "execution_count": 103,
      "outputs": [
        {
          "output_type": "display_data",
          "data": {
            "text/plain": [
              "<Figure size 648x648 with 1 Axes>"
            ],
            "image/png": "[encoded data removed]"
          },
          "metadata": {
            "needs_background": "light"
          }
        }
      ]
    }
  ]
}