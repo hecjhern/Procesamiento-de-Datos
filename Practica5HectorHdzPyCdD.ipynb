{
  "nbformat": 4,
  "nbformat_minor": 0,
  "metadata": {
    "colab": {
      "provenance": [],
      "authorship_tag": "ABX9TyMrOjX7mbuhH1AosZs9FrCo",
      "include_colab_link": true
    },
    "kernelspec": {
      "name": "python3",
      "display_name": "Python 3"
    },
    "language_info": {
      "name": "python"
    }
  },
  "cells": [
    {
      "cell_type": "markdown",
      "metadata": {
        "id": "view-in-github",
        "colab_type": "text"
      },
      "source": [
        "<a href=\"https://colab.research.google.com/github/hecjhern/Procesamiento-de-Datos/blob/main/Practica5HectorHdzPyCdD.ipynb\" target=\"_parent\"><img src=\"https://colab.research.google.com/assets/colab-badge.svg\" alt=\"Open In Colab\"/></a>"
      ]
    },
    {
      "cell_type": "markdown",
      "source": [
        "# Metodología y Resultados"
      ],
      "metadata": {
        "id": "yJ3Mi1w9wXvM"
      }
    },
    {
      "cell_type": "code",
      "source": [
        "X=voteclean.drop(\"presvote_2016\", axis=1)\n",
        "Y=voteclean[\"presvote_2016\"]"
      ],
      "metadata": {
        "id": "-ELkKUPkw3BF"
      },
      "execution_count": null,
      "outputs": []
    },
    {
      "cell_type": "code",
      "source": [
        "from sklearn.model_selection import train_test_split\n",
        "\n",
        "X_train, X_test, Y_train, Y_test = train_test_split(X, Y, test_size=0.25, random_state=16)"
      ],
      "metadata": {
        "id": "2E8ZG0POwapx"
      },
      "execution_count": null,
      "outputs": []
    },
    {
      "cell_type": "code",
      "source": [
        "from sklearn.linear_model import LogisticRegression\n",
        "\n",
        "logreg = LogisticRegression(random_state=16)\n",
        "\n",
        "modelo1 = logreg.fit(X_train, Y_train)\n",
        "\n",
        "Y_pred = logreg.predict(X_test)"
      ],
      "metadata": {
        "id": "UAcUJxNzwbLr"
      },
      "execution_count": null,
      "outputs": []
    },
    {
      "cell_type": "code",
      "source": [
        "print(modelo1.coef_, modelo1.intercept_)"
      ],
      "metadata": {
        "colab": {
          "base_uri": "https://localhost:8080/"
        },
        "id": "cOGuUTfNwbJY",
        "outputId": "1a10ed15-1cc7-4bf4-a8bc-d3255f49ba7d"
      },
      "execution_count": null,
      "outputs": [
        {
          "output_type": "stream",
          "name": "stdout",
          "text": [
            "[[ 1.77998059 -0.79223766 -0.63789003  0.43629723 -0.0039685   0.77694323\n",
            "  -0.17784854  0.70978399 -0.67951885 -0.33715949 -0.262153    0.00495878\n",
            "  -0.0279759  -0.09631143  0.04215578 -0.00504236]] [-2.16356927]\n"
          ]
        }
      ]
    },
    {
      "cell_type": "code",
      "source": [
        "import statsmodels.api as sm\n",
        "logit_model=sm.Logit(Y,X)\n",
        "result=logit_model.fit()\n",
        "print(result.summary())"
      ],
      "metadata": {
        "colab": {
          "base_uri": "https://localhost:8080/"
        },
        "id": "F9J6PRriwbHf",
        "outputId": "15a69c60-1ae2-4977-f28a-d909ec204fae"
      },
      "execution_count": null,
      "outputs": [
        {
          "output_type": "stream",
          "name": "stdout",
          "text": [
            "Optimization terminated successfully.\n",
            "         Current function value: 0.108672\n",
            "         Iterations 9\n",
            "                           Logit Regression Results                           \n",
            "==============================================================================\n",
            "Dep. Variable:          presvote_2016   No. Observations:                 4326\n",
            "Model:                          Logit   Df Residuals:                     4310\n",
            "Method:                           MLE   Df Model:                           15\n",
            "Date:                Mon, 20 Mar 2023   Pseudo R-squ.:                  0.8432\n",
            "Time:                        16:31:16   Log-Likelihood:                -470.11\n",
            "converged:                       True   LL-Null:                       -2998.3\n",
            "Covariance Type:            nonrobust   LLR p-value:                     0.000\n",
            "==========================================================================================\n",
            "                             coef    std err          z      P>|z|      [0.025      0.975]\n",
            "------------------------------------------------------------------------------------------\n",
            "obamaapp_2016              1.8421      0.095     19.378      0.000       1.656       2.028\n",
            "fairsociety_2016          -0.7643      0.118     -6.468      0.000      -0.996      -0.533\n",
            "beliefinmedia_2016        -0.7642      0.111     -6.904      0.000      -0.981      -0.547\n",
            "persfinretro_2016          0.3326      0.147      2.267      0.023       0.045       0.620\n",
            "trustgovt_2016            -0.3923      0.186     -2.110      0.035      -0.757      -0.028\n",
            "immi_contribution_2016     0.7436      0.103      7.202      0.000       0.541       0.946\n",
            "view_deathpen_2016        -0.3906      0.206     -1.892      0.058      -0.795       0.014\n",
            "envwarm_2016               0.5794      0.107      5.397      0.000       0.369       0.790\n",
            "govtreg_business_2016     -0.7113      0.112     -6.352      0.000      -0.931      -0.492\n",
            "sexism_equality_2016      -0.3542      0.094     -3.773      0.000      -0.538      -0.170\n",
            "gunowner_2016             -0.1945      0.096     -2.032      0.042      -0.382      -0.007\n",
            "educ_2016                 -0.0185      0.064     -0.290      0.772      -0.143       0.106\n",
            "marstat_2016              -0.0537      0.052     -1.025      0.305      -0.156       0.049\n",
            "employment_2016           -0.1008      0.048     -2.101      0.036      -0.195      -0.007\n",
            "newsint_2016              -0.0230      0.111     -0.206      0.837      -0.241       0.195\n",
            "religion_2016             -0.0162      0.021     -0.758      0.448      -0.058       0.026\n",
            "==========================================================================================\n"
          ]
        }
      ]
    },
    {
      "cell_type": "code",
      "source": [
        "#Se observa que la variable de las noticias no es significativa, por lo que se considera dejarla."
      ],
      "metadata": {
        "id": "GHdJmbPywbE6"
      },
      "execution_count": null,
      "outputs": []
    },
    {
      "cell_type": "code",
      "source": [
        "X = X.drop(\"newsint_2016\", axis=1)"
      ],
      "metadata": {
        "id": "DaU7G6AG3adC"
      },
      "execution_count": null,
      "outputs": []
    },
    {
      "cell_type": "code",
      "source": [
        "X_train, X_test, Y_train, Y_test = train_test_split(X, Y, test_size=0.25, random_state=16)"
      ],
      "metadata": {
        "id": "WhEQGmf83lR-"
      },
      "execution_count": null,
      "outputs": []
    },
    {
      "cell_type": "code",
      "source": [
        "logreg = LogisticRegression(random_state=16)\n",
        "\n",
        "modelo2 = logreg.fit(X_train, Y_train)\n",
        "\n",
        "Y_pred = logreg.predict(X_test)"
      ],
      "metadata": {
        "id": "PtkqOyXb3n0n"
      },
      "execution_count": null,
      "outputs": []
    },
    {
      "cell_type": "code",
      "source": [
        "logit_model=sm.Logit(Y,X)\n",
        "result=logit_model.fit()\n",
        "print(result.summary())"
      ],
      "metadata": {
        "colab": {
          "base_uri": "https://localhost:8080/"
        },
        "id": "eOq0Ck1W3nyV",
        "outputId": "5e905158-1b5f-479e-998a-8c8e82ccab57"
      },
      "execution_count": null,
      "outputs": [
        {
          "output_type": "stream",
          "name": "stdout",
          "text": [
            "Optimization terminated successfully.\n",
            "         Current function value: 0.108676\n",
            "         Iterations 9\n",
            "                           Logit Regression Results                           \n",
            "==============================================================================\n",
            "Dep. Variable:          presvote_2016   No. Observations:                 4326\n",
            "Model:                          Logit   Df Residuals:                     4311\n",
            "Method:                           MLE   Df Model:                           14\n",
            "Date:                Mon, 20 Mar 2023   Pseudo R-squ.:                  0.8432\n",
            "Time:                        16:34:09   Log-Likelihood:                -470.13\n",
            "converged:                       True   LL-Null:                       -2998.3\n",
            "Covariance Type:            nonrobust   LLR p-value:                     0.000\n",
            "==========================================================================================\n",
            "                             coef    std err          z      P>|z|      [0.025      0.975]\n",
            "------------------------------------------------------------------------------------------\n",
            "obamaapp_2016              1.8421      0.095     19.376      0.000       1.656       2.028\n",
            "fairsociety_2016          -0.7642      0.118     -6.468      0.000      -0.996      -0.533\n",
            "beliefinmedia_2016        -0.7657      0.110     -6.931      0.000      -0.982      -0.549\n",
            "persfinretro_2016          0.3307      0.146      2.259      0.024       0.044       0.618\n",
            "trustgovt_2016            -0.3949      0.185     -2.129      0.033      -0.758      -0.031\n",
            "immi_contribution_2016     0.7419      0.103      7.208      0.000       0.540       0.944\n",
            "view_deathpen_2016        -0.3901      0.206     -1.890      0.059      -0.795       0.014\n",
            "envwarm_2016               0.5772      0.107      5.406      0.000       0.368       0.786\n",
            "govtreg_business_2016     -0.7145      0.111     -6.442      0.000      -0.932      -0.497\n",
            "sexism_equality_2016      -0.3563      0.093     -3.818      0.000      -0.539      -0.173\n",
            "gunowner_2016             -0.1973      0.095     -2.082      0.037      -0.383      -0.012\n",
            "educ_2016                 -0.0172      0.063     -0.272      0.786      -0.142       0.107\n",
            "marstat_2016              -0.0542      0.052     -1.035      0.301      -0.157       0.048\n",
            "employment_2016           -0.1008      0.048     -2.101      0.036      -0.195      -0.007\n",
            "religion_2016             -0.0163      0.021     -0.765      0.444      -0.058       0.026\n",
            "==========================================================================================\n"
          ]
        }
      ]
    },
    {
      "cell_type": "code",
      "source": [
        "#La siguiente variable en no ser significativa es la de educación, por lo que también se quita."
      ],
      "metadata": {
        "id": "lSH0fZbW3nvQ"
      },
      "execution_count": null,
      "outputs": []
    },
    {
      "cell_type": "code",
      "source": [
        "X = X.drop(\"educ_2016\", axis=1)"
      ],
      "metadata": {
        "id": "iYwPQmdy36I8"
      },
      "execution_count": null,
      "outputs": []
    },
    {
      "cell_type": "code",
      "source": [
        "X_train, X_test, Y_train, Y_test = train_test_split(X, Y, test_size=0.25, random_state=16)\n",
        "logreg = LogisticRegression(random_state=16)\n",
        "\n",
        "modelo2 = logreg.fit(X_train, Y_train)\n",
        "\n",
        "Y_pred = logreg.predict(X_test)"
      ],
      "metadata": {
        "id": "r8MFKw1v36FS"
      },
      "execution_count": null,
      "outputs": []
    },
    {
      "cell_type": "code",
      "source": [
        "logit_model=sm.Logit(Y,X)\n",
        "result=logit_model.fit()\n",
        "print(result.summary())"
      ],
      "metadata": {
        "colab": {
          "base_uri": "https://localhost:8080/"
        },
        "id": "IgY_sPbI357x",
        "outputId": "2cfbb98b-fa37-4a02-8d6c-2ed47ace1c06"
      },
      "execution_count": null,
      "outputs": [
        {
          "output_type": "stream",
          "name": "stdout",
          "text": [
            "Optimization terminated successfully.\n",
            "         Current function value: 0.108685\n",
            "         Iterations 9\n",
            "                           Logit Regression Results                           \n",
            "==============================================================================\n",
            "Dep. Variable:          presvote_2016   No. Observations:                 4326\n",
            "Model:                          Logit   Df Residuals:                     4312\n",
            "Method:                           MLE   Df Model:                           13\n",
            "Date:                Mon, 20 Mar 2023   Pseudo R-squ.:                  0.8432\n",
            "Time:                        16:35:24   Log-Likelihood:                -470.17\n",
            "converged:                       True   LL-Null:                       -2998.3\n",
            "Covariance Type:            nonrobust   LLR p-value:                     0.000\n",
            "==========================================================================================\n",
            "                             coef    std err          z      P>|z|      [0.025      0.975]\n",
            "------------------------------------------------------------------------------------------\n",
            "obamaapp_2016              1.8407      0.095     19.388      0.000       1.655       2.027\n",
            "fairsociety_2016          -0.7666      0.118     -6.507      0.000      -0.998      -0.536\n",
            "beliefinmedia_2016        -0.7700      0.109     -7.044      0.000      -0.984      -0.556\n",
            "persfinretro_2016          0.3307      0.146      2.259      0.024       0.044       0.618\n",
            "trustgovt_2016            -0.4107      0.176     -2.332      0.020      -0.756      -0.065\n",
            "immi_contribution_2016     0.7441      0.103      7.249      0.000       0.543       0.945\n",
            "view_deathpen_2016        -0.4008      0.203     -1.978      0.048      -0.798      -0.004\n",
            "envwarm_2016               0.5756      0.107      5.399      0.000       0.367       0.785\n",
            "govtreg_business_2016     -0.7145      0.111     -6.443      0.000      -0.932      -0.497\n",
            "sexism_equality_2016      -0.3555      0.093     -3.812      0.000      -0.538      -0.173\n",
            "gunowner_2016             -0.1996      0.094     -2.116      0.034      -0.385      -0.015\n",
            "marstat_2016              -0.0542      0.052     -1.036      0.300      -0.157       0.048\n",
            "employment_2016           -0.0968      0.046     -2.122      0.034      -0.186      -0.007\n",
            "religion_2016             -0.0160      0.021     -0.750      0.453      -0.058       0.026\n",
            "==========================================================================================\n"
          ]
        }
      ]
    },
    {
      "cell_type": "code",
      "source": [
        "#Por último se observa que la variable religión marca no significativa, por lo que también se quita."
      ],
      "metadata": {
        "id": "TNVn6pfq355m"
      },
      "execution_count": null,
      "outputs": []
    },
    {
      "cell_type": "code",
      "source": [
        "X = X.drop(\"religion_2016\", axis=1)"
      ],
      "metadata": {
        "id": "g0JGOImK353Q"
      },
      "execution_count": null,
      "outputs": []
    },
    {
      "cell_type": "code",
      "source": [
        "X_train, X_test, Y_train, Y_test = train_test_split(X, Y, test_size=0.25, random_state=16)\n",
        "logreg = LogisticRegression(random_state=16)\n",
        "\n",
        "modelo2 = logreg.fit(X_train, Y_train)\n",
        "\n",
        "Y_pred = logreg.predict(X_test)"
      ],
      "metadata": {
        "id": "4A6T0sc74UL4"
      },
      "execution_count": null,
      "outputs": []
    },
    {
      "cell_type": "code",
      "source": [
        "logit_model=sm.Logit(Y,X)\n",
        "result=logit_model.fit()\n",
        "print(result.summary())"
      ],
      "metadata": {
        "colab": {
          "base_uri": "https://localhost:8080/"
        },
        "id": "3844yvul4UJ1",
        "outputId": "8b2a149a-f7a2-4829-d50d-001d0a14b5ce"
      },
      "execution_count": null,
      "outputs": [
        {
          "output_type": "stream",
          "name": "stdout",
          "text": [
            "Optimization terminated successfully.\n",
            "         Current function value: 0.108750\n",
            "         Iterations 9\n",
            "                           Logit Regression Results                           \n",
            "==============================================================================\n",
            "Dep. Variable:          presvote_2016   No. Observations:                 4326\n",
            "Model:                          Logit   Df Residuals:                     4313\n",
            "Method:                           MLE   Df Model:                           12\n",
            "Date:                Mon, 20 Mar 2023   Pseudo R-squ.:                  0.8431\n",
            "Time:                        16:36:55   Log-Likelihood:                -470.45\n",
            "converged:                       True   LL-Null:                       -2998.3\n",
            "Covariance Type:            nonrobust   LLR p-value:                     0.000\n",
            "==========================================================================================\n",
            "                             coef    std err          z      P>|z|      [0.025      0.975]\n",
            "------------------------------------------------------------------------------------------\n",
            "obamaapp_2016              1.8444      0.095     19.429      0.000       1.658       2.030\n",
            "fairsociety_2016          -0.7785      0.117     -6.662      0.000      -1.007      -0.549\n",
            "beliefinmedia_2016        -0.7741      0.109     -7.099      0.000      -0.988      -0.560\n",
            "persfinretro_2016          0.3274      0.146      2.238      0.025       0.041       0.614\n",
            "trustgovt_2016            -0.4209      0.176     -2.398      0.016      -0.765      -0.077\n",
            "immi_contribution_2016     0.7454      0.103      7.267      0.000       0.544       0.946\n",
            "view_deathpen_2016        -0.4072      0.202     -2.013      0.044      -0.804      -0.011\n",
            "envwarm_2016               0.5770      0.107      5.414      0.000       0.368       0.786\n",
            "govtreg_business_2016     -0.7186      0.111     -6.489      0.000      -0.936      -0.502\n",
            "sexism_equality_2016      -0.3527      0.093     -3.787      0.000      -0.535      -0.170\n",
            "gunowner_2016             -0.2020      0.094     -2.144      0.032      -0.387      -0.017\n",
            "marstat_2016              -0.0550      0.052     -1.053      0.292      -0.157       0.047\n",
            "employment_2016           -0.0945      0.046     -2.076      0.038      -0.184      -0.005\n",
            "==========================================================================================\n"
          ]
        }
      ]
    },
    {
      "cell_type": "code",
      "source": [
        "#Finalmente, la variable de estatus marital no da significativa, por lo que se procede a quitar."
      ],
      "metadata": {
        "id": "bBXIX2Wn4UHz"
      },
      "execution_count": null,
      "outputs": []
    },
    {
      "cell_type": "code",
      "source": [
        "X = X.drop(\"marstat_2016\", axis=1)"
      ],
      "metadata": {
        "id": "D2fd_zUA4UFm"
      },
      "execution_count": null,
      "outputs": []
    },
    {
      "cell_type": "code",
      "source": [
        "X_train, X_test, Y_train, Y_test = train_test_split(X, Y, test_size=0.25, random_state=16)\n",
        "logreg = LogisticRegression(random_state=16)\n",
        "\n",
        "modelo2 = logreg.fit(X_train, Y_train)\n",
        "\n",
        "Y_pred = logreg.predict(X_test)"
      ],
      "metadata": {
        "id": "tHGH94oT4UC8"
      },
      "execution_count": null,
      "outputs": []
    },
    {
      "cell_type": "code",
      "source": [
        "logit_model=sm.Logit(Y,X)\n",
        "result=logit_model.fit()\n",
        "print(result.summary())"
      ],
      "metadata": {
        "colab": {
          "base_uri": "https://localhost:8080/"
        },
        "id": "MAO-s0TU4wp3",
        "outputId": "9d6bbb59-85c9-48f7-8d40-c5373efff024"
      },
      "execution_count": null,
      "outputs": [
        {
          "output_type": "stream",
          "name": "stdout",
          "text": [
            "Optimization terminated successfully.\n",
            "         Current function value: 0.108879\n",
            "         Iterations 9\n",
            "                           Logit Regression Results                           \n",
            "==============================================================================\n",
            "Dep. Variable:          presvote_2016   No. Observations:                 4326\n",
            "Model:                          Logit   Df Residuals:                     4314\n",
            "Method:                           MLE   Df Model:                           11\n",
            "Date:                Mon, 20 Mar 2023   Pseudo R-squ.:                  0.8429\n",
            "Time:                        16:38:37   Log-Likelihood:                -471.01\n",
            "converged:                       True   LL-Null:                       -2998.3\n",
            "Covariance Type:            nonrobust   LLR p-value:                     0.000\n",
            "==========================================================================================\n",
            "                             coef    std err          z      P>|z|      [0.025      0.975]\n",
            "------------------------------------------------------------------------------------------\n",
            "obamaapp_2016              1.8440      0.095     19.435      0.000       1.658       2.030\n",
            "fairsociety_2016          -0.7830      0.117     -6.706      0.000      -1.012      -0.554\n",
            "beliefinmedia_2016        -0.7783      0.109     -7.144      0.000      -0.992      -0.565\n",
            "persfinretro_2016          0.3173      0.146      2.179      0.029       0.032       0.603\n",
            "trustgovt_2016            -0.4222      0.176     -2.405      0.016      -0.766      -0.078\n",
            "immi_contribution_2016     0.7418      0.102      7.247      0.000       0.541       0.942\n",
            "view_deathpen_2016        -0.4251      0.201     -2.111      0.035      -0.820      -0.030\n",
            "envwarm_2016               0.5793      0.107      5.439      0.000       0.371       0.788\n",
            "govtreg_business_2016     -0.7361      0.109     -6.727      0.000      -0.951      -0.522\n",
            "sexism_equality_2016      -0.3508      0.093     -3.774      0.000      -0.533      -0.169\n",
            "gunowner_2016             -0.2135      0.093     -2.284      0.022      -0.397      -0.030\n",
            "employment_2016           -0.0946      0.045     -2.084      0.037      -0.184      -0.006\n",
            "==========================================================================================\n"
          ]
        }
      ]
    },
    {
      "cell_type": "code",
      "source": [
        "#Decidimos quedarnos con este resultado ya que todas las variables son significativas y se tiene una R cuadrada de nivel más que aceptable."
      ],
      "metadata": {
        "id": "xfwNUEhj4wol"
      },
      "execution_count": null,
      "outputs": []
    },
    {
      "cell_type": "code",
      "source": [
        "from sklearn import metrics\n",
        "\n",
        "cnf_matrix = metrics.confusion_matrix(Y_test, Y_pred)\n",
        "cnf_matrix"
      ],
      "metadata": {
        "colab": {
          "base_uri": "https://localhost:8080/"
        },
        "id": "Y7kCI9dZ4wjC",
        "outputId": "a69909b4-a719-4ea9-97b3-7ea1d06c967b"
      },
      "execution_count": null,
      "outputs": [
        {
          "output_type": "execute_result",
          "data": {
            "text/plain": [
              "array([[538,  23],\n",
              "       [ 28, 493]])"
            ]
          },
          "metadata": {},
          "execution_count": 100
        }
      ]
    },
    {
      "cell_type": "code",
      "source": [
        "import numpy as np\n",
        "import matplotlib.pyplot as plt\n",
        "import seaborn as sns\n",
        "plt.figure(figsize = (6,4))\n",
        "class_names=[0,1] # name  of classes\n",
        "tick_marks = np.arange(len(class_names))\n",
        "plt.xticks(tick_marks, class_names)\n",
        "plt.yticks(tick_marks, class_names)\n",
        "# create heatmap\n",
        "sns.heatmap(pd.DataFrame(cnf_matrix), annot=True, cmap=\"YlGnBu\" ,fmt='g')\n",
        "ax.xaxis.set_label_position(\"top\")\n",
        "plt.tight_layout()\n",
        "plt.title('Confusion matrix', y=1.1)\n",
        "plt.ylabel('Actual label')\n",
        "plt.xlabel('Predicted label')"
      ],
      "metadata": {
        "colab": {
          "base_uri": "https://localhost:8080/",
          "height": 370
        },
        "id": "H0kxqvC34wgj",
        "outputId": "d3a675aa-eb31-4360-85ed-f16f2ce9ad5b"
      },
      "execution_count": null,
      "outputs": [
        {
          "output_type": "execute_result",
          "data": {
            "text/plain": [
              "Text(0.5, 15.0, 'Predicted label')"
            ]
          },
          "metadata": {},
          "execution_count": 117
        },
        {
          "output_type": "display_data",
          "data": {
            "text/plain": [
              "<Figure size 432x288 with 2 Axes>"
            ],
            "image/png": "[encoded data removed]"
          },
          "metadata": {
            "needs_background": "light"
          }
        }
      ]
    },
    {
      "cell_type": "code",
      "source": [
        "from sklearn.metrics import classification_report\n",
        "target_names = ['Votos a favor de Trump', 'Votos en Contra de Trump']\n",
        "print(classification_report(Y_test, Y_pred, target_names=target_names))"
      ],
      "metadata": {
        "colab": {
          "base_uri": "https://localhost:8080/"
        },
        "id": "CZpuOeX-4wet",
        "outputId": "4b01b4dc-3215-4815-aa83-dc6494e10903"
      },
      "execution_count": null,
      "outputs": [
        {
          "output_type": "stream",
          "name": "stdout",
          "text": [
            "                          precision    recall  f1-score   support\n",
            "\n",
            "  Votos a favor de Trump       0.95      0.96      0.95       561\n",
            "Votos en Contra de Trump       0.96      0.95      0.95       521\n",
            "\n",
            "                accuracy                           0.95      1082\n",
            "               macro avg       0.95      0.95      0.95      1082\n",
            "            weighted avg       0.95      0.95      0.95      1082\n",
            "\n"
          ]
        }
      ]
    },
    {
      "cell_type": "code",
      "source": [
        "Y_pred_proba = logreg.predict_proba(X_test)[::,1]\n",
        "fpr, tpr, _ = metrics.roc_curve(Y_test,  Y_pred_proba)\n",
        "auc = metrics.roc_auc_score(Y_test, Y_pred_proba)\n",
        "plt.plot(fpr,tpr,label=\"data 1, auc=\"+str(auc))\n",
        "plt.legend(loc=4)\n",
        "plt.show()"
      ],
      "metadata": {
        "colab": {
          "base_uri": "https://localhost:8080/",
          "height": 537
        },
        "id": "4ePAF4sr4wcV",
        "outputId": "3bb82eab-667f-485f-f2d3-cb236d5210eb"
      },
      "execution_count": null,
      "outputs": [
        {
          "output_type": "display_data",
          "data": {
            "text/plain": [
              "<Figure size 648x648 with 1 Axes>"
            ],
            "image/png": "[encoded data removed]"
          },
          "metadata": {
            "needs_background": "light"
          }
        }
      ]
    }
  ]
}